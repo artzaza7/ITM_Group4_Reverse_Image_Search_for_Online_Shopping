{
 "cells": [
  {
   "cell_type": "code",
   "execution_count": 1,
   "id": "c3643b55",
   "metadata": {},
   "outputs": [],
   "source": [
    "import cv2\n",
    "import os\n",
    "import numpy as np\n",
    "import tensorflow as tf\n",
    "import tensorflow_hub as hub\n",
    "from PIL import Image\n",
    "from scipy.spatial import distance"
   ]
  },
  {
   "cell_type": "markdown",
   "id": "8de8558f",
   "metadata": {},
   "source": [
    "# Preprocess"
   ]
  },
  {
   "cell_type": "code",
   "execution_count": 2,
   "id": "b27dd8ae",
   "metadata": {},
   "outputs": [],
   "source": [
    "# def image2array(folder):\n",
    "#     images = []\n",
    "#     for filename in os.listdir(folder):\n",
    "#         img = cv2.imread(os.path.join(folder,filename))\n",
    "#         img = cv2.cvtColor(img, cv2.COLOR_BGR2RGB)\n",
    "#         img = cv2.resize(img, (224,224))\n",
    "#         if img is not None:\n",
    "#             images.append(np.array(img))\n",
    "#     images = np.array(images)\n",
    "#     images = images.reshape(images.shape[0], 224, 224, 3)\n",
    "#     images = images.astype('float32')\n",
    "#     images /= 255\n",
    "#     return images"
   ]
  },
  {
   "cell_type": "code",
   "execution_count": 3,
   "id": "42643d8c",
   "metadata": {},
   "outputs": [],
   "source": [
    "# train_data = image2array(r\"C:\\\\ITM\\\\pants\")\n",
    "# print(\"Length of training dataset:\",train_data.shape)\n",
    "# # test_data = image2array(test_files)\n",
    "# # print(\"Length of test dataset:\",test_data.shape)"
   ]
  },
  {
   "cell_type": "code",
   "execution_count": 4,
   "id": "d20ce628",
   "metadata": {
    "scrolled": true
   },
   "outputs": [],
   "source": [
    "# from matplotlib import pyplot as plt\n",
    "# plt.imshow(train_data[5], interpolation='nearest')\n",
    "# plt.show()"
   ]
  },
  {
   "cell_type": "markdown",
   "id": "d10e2d7c",
   "metadata": {},
   "source": [
    "# Pre-Trained Model"
   ]
  },
  {
   "cell_type": "code",
   "execution_count": 5,
   "id": "b2b85f6b",
   "metadata": {},
   "outputs": [],
   "source": [
    "model_url = \"https://tfhub.dev/tensorflow/efficientnet/lite0/feature-vector/2\"\n",
    "\n",
    "IMAGE_SHAPE = (224, 224)\n",
    "\n",
    "layer = hub.KerasLayer(model_url, input_shape=IMAGE_SHAPE+(3,))\n",
    "model = tf.keras.Sequential([layer])"
   ]
  },
  {
   "cell_type": "code",
   "execution_count": 6,
   "id": "dda6f5ab",
   "metadata": {
    "scrolled": true
   },
   "outputs": [
    {
     "name": "stdout",
     "output_type": "stream",
     "text": [
      "Model: \"sequential\"\n",
      "_________________________________________________________________\n",
      " Layer (type)                Output Shape              Param #   \n",
      "=================================================================\n",
      " keras_layer (KerasLayer)    (None, 1280)              3413024   \n",
      "                                                                 \n",
      "=================================================================\n",
      "Total params: 3,413,024\n",
      "Trainable params: 0\n",
      "Non-trainable params: 3,413,024\n",
      "_________________________________________________________________\n"
     ]
    }
   ],
   "source": [
    "model.summary()"
   ]
  },
  {
   "cell_type": "code",
   "execution_count": 7,
   "id": "9267c159",
   "metadata": {},
   "outputs": [],
   "source": [
    "def extract(file):\n",
    "    file = Image.open(file).convert('L').resize(IMAGE_SHAPE)\n",
    "    #display(file)\n",
    "\n",
    "    file = np.stack((file,)*3, axis=-1)\n",
    "\n",
    "    file = np.array(file)/255.0\n",
    "\n",
    "    embedding = model.predict(file[np.newaxis, ...])\n",
    "    #print(embedding)\n",
    "    vgg16_feature_np = np.array(embedding)\n",
    "    flattended_feature = vgg16_feature_np.flatten()\n",
    "\n",
    "    #print(len(flattended_feature))\n",
    "    #print(flattended_feature)\n",
    "    #print('-----------')\n",
    "    return flattended_feature"
   ]
  },
  {
   "cell_type": "code",
   "execution_count": 8,
   "id": "004a8bd4",
   "metadata": {},
   "outputs": [],
   "source": [
    "def extractAll(folder):\n",
    "    images = []\n",
    "    for filename in os.listdir(folder):\n",
    "        img = extract(os.path.join(folder,filename))\n",
    "        if img is not None:\n",
    "            images.append(np.array(img))\n",
    "    return images"
   ]
  },
  {
   "cell_type": "code",
   "execution_count": 9,
   "id": "eab1d0e7",
   "metadata": {},
   "outputs": [],
   "source": [
    "pants1 = extract(r'C:\\ITM\\pants\\3.png')\n",
    "pants2 = extract(r'C:\\ITM\\pants\\5.png')\n",
    "skirt1 = extract(r'C:\\ITM\\skirt\\1.png')"
   ]
  },
  {
   "cell_type": "code",
   "execution_count": 10,
   "id": "49837c87",
   "metadata": {},
   "outputs": [
    {
     "data": {
      "text/plain": [
       "(1280,)"
      ]
     },
     "execution_count": 10,
     "metadata": {},
     "output_type": "execute_result"
    }
   ],
   "source": [
    "pants1.shape"
   ]
  },
  {
   "cell_type": "code",
   "execution_count": 11,
   "id": "3cb425f3",
   "metadata": {
    "scrolled": true
   },
   "outputs": [
    {
     "name": "stdout",
     "output_type": "stream",
     "text": [
      "<class 'numpy.ndarray'>\n",
      "<class 'numpy.ndarray'>\n",
      "<class 'numpy.ndarray'>\n",
      "<class 'numpy.ndarray'>\n",
      "<class 'numpy.ndarray'>\n",
      "<class 'numpy.ndarray'>\n"
     ]
    },
    {
     "data": {
      "text/plain": [
       "list"
      ]
     },
     "execution_count": 11,
     "metadata": {},
     "output_type": "execute_result"
    }
   ],
   "source": [
    "images = extractAll(r\"C:\\\\ITM\\\\test\")\n",
    "type(images)"
   ]
  },
  {
   "cell_type": "code",
   "execution_count": 12,
   "id": "8f407eea",
   "metadata": {},
   "outputs": [
    {
     "data": {
      "text/plain": [
       "numpy.ndarray"
      ]
     },
     "execution_count": 12,
     "metadata": {},
     "output_type": "execute_result"
    }
   ],
   "source": [
    "images = np.array(images)\n",
    "type(images)"
   ]
  },
  {
   "cell_type": "code",
   "execution_count": 15,
   "id": "02a67389",
   "metadata": {},
   "outputs": [
    {
     "data": {
      "text/plain": [
       "6"
      ]
     },
     "execution_count": 15,
     "metadata": {},
     "output_type": "execute_result"
    }
   ],
   "source": [
    "images.shape[0]"
   ]
  },
  {
   "cell_type": "code",
   "execution_count": 17,
   "id": "32718ed1",
   "metadata": {},
   "outputs": [],
   "source": [
    "metric = 'cosine'"
   ]
  },
  {
   "cell_type": "code",
   "execution_count": 33,
   "id": "16b06c29",
   "metadata": {},
   "outputs": [],
   "source": [
    "x = extract(r'C:\\ITM\\pants\\3.png')"
   ]
  },
  {
   "cell_type": "code",
   "execution_count": null,
   "id": "e40701de",
   "metadata": {},
   "outputs": [],
   "source": [
    "dc = distance.cdist([x], [pants1], metric)[0]\n",
    "print(dc)\n",
    "print(\"the distance between pants1 and the pants1 is {}\".format(dc))"
   ]
  },
  {
   "cell_type": "code",
   "execution_count": 102,
   "id": "562270e1",
   "metadata": {},
   "outputs": [],
   "source": [
    "def findClosest(x,items):\n",
    "    metric = 'cosine'\n",
    "    dc_array = []\n",
    "    for item in range(0,items.shape[0]) :\n",
    "        dc = distance.cdist([x], [items[item]], metric)[0]\n",
    "        if item is not None:\n",
    "            dc = np.append(dc,item)\n",
    "            print(dc.shape)\n",
    "            dc_array.append(np.array(dc))\n",
    "#     dc_array.sort()\n",
    "#     dc_array = dc_array[dc_array[:,1].argsort(kind='mergesort')] #error\n",
    "    return np.array(dc_array)"
   ]
  },
  {
   "cell_type": "code",
   "execution_count": 103,
   "id": "55b47b58",
   "metadata": {},
   "outputs": [
    {
     "name": "stdout",
     "output_type": "stream",
     "text": [
      "(2,)\n",
      "(2,)\n",
      "(2,)\n",
      "(2,)\n",
      "(2,)\n",
      "(2,)\n"
     ]
    }
   ],
   "source": [
    "result = findClosest(x,images)"
   ]
  },
  {
   "cell_type": "code",
   "execution_count": 79,
   "id": "fa79a6af",
   "metadata": {},
   "outputs": [
    {
     "name": "stdout",
     "output_type": "stream",
     "text": [
      "(2,)\n",
      "(2,)\n",
      "(2,)\n",
      "(2,)\n",
      "(2,)\n",
      "(2,)\n"
     ]
    }
   ],
   "source": [
    "result = findClosest(skirt1,images)"
   ]
  },
  {
   "cell_type": "code",
   "execution_count": 90,
   "id": "7651cf72",
   "metadata": {},
   "outputs": [
    {
     "data": {
      "text/plain": [
       "array([0.08888063, 4.        ])"
      ]
     },
     "execution_count": 90,
     "metadata": {},
     "output_type": "execute_result"
    }
   ],
   "source": []
  },
  {
   "cell_type": "code",
   "execution_count": 104,
   "id": "e84e4cd5",
   "metadata": {},
   "outputs": [
    {
     "name": "stdout",
     "output_type": "stream",
     "text": [
      "[[0.         0.        ]\n",
      " [0.1613809  1.        ]\n",
      " [0.05200973 2.        ]\n",
      " [0.11066395 3.        ]\n",
      " [0.08888063 4.        ]\n",
      " [0.11392746 5.        ]]\n"
     ]
    }
   ],
   "source": [
    "print(result)"
   ]
  },
  {
   "cell_type": "code",
   "execution_count": 18,
   "id": "87eba45f",
   "metadata": {
    "scrolled": true
   },
   "outputs": [
    {
     "name": "stdout",
     "output_type": "stream",
     "text": [
      "[0.]\n",
      "the distance between pants1 and the pants1 is [0.]\n"
     ]
    }
   ],
   "source": [
    "dc = distance.cdist([pants1], [pants1], metric)[0]\n",
    "print(dc)\n",
    "print(\"the distance between pants1 and the pants1 is {}\".format(dc))"
   ]
  },
  {
   "cell_type": "code",
   "execution_count": 19,
   "id": "2b952146",
   "metadata": {},
   "outputs": [
    {
     "name": "stdout",
     "output_type": "stream",
     "text": [
      "[0.05200973]\n",
      "the distance between pants1 and the pants2 is [0.05200973]\n"
     ]
    }
   ],
   "source": [
    "dc = distance.cdist([pants1], [pants2], metric)[0]\n",
    "print(dc)\n",
    "print(\"the distance between pants1 and the pants2 is {}\".format(dc))"
   ]
  },
  {
   "cell_type": "code",
   "execution_count": 20,
   "id": "b1e7cd78",
   "metadata": {},
   "outputs": [
    {
     "data": {
      "text/plain": [
       "numpy.ndarray"
      ]
     },
     "execution_count": 20,
     "metadata": {},
     "output_type": "execute_result"
    }
   ],
   "source": [
    "type(dc)"
   ]
  },
  {
   "cell_type": "code",
   "execution_count": null,
   "id": "489f2d7f",
   "metadata": {},
   "outputs": [],
   "source": [
    "dc = distance.cdist([pants1], [skirt1], metric)[0]\n",
    "print(dc)\n",
    "print(\"the distance between pants1 and the skirt1 is {}\".format(dc))"
   ]
  }
 ],
 "metadata": {
  "kernelspec": {
   "display_name": "Python 3 (ipykernel)",
   "language": "python",
   "name": "python3"
  },
  "language_info": {
   "codemirror_mode": {
    "name": "ipython",
    "version": 3
   },
   "file_extension": ".py",
   "mimetype": "text/x-python",
   "name": "python",
   "nbconvert_exporter": "python",
   "pygments_lexer": "ipython3",
   "version": "3.9.7"
  }
 },
 "nbformat": 4,
 "nbformat_minor": 5
}
