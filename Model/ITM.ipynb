{
 "cells": [
  {
   "cell_type": "code",
   "execution_count": 1,
   "id": "c3643b55",
   "metadata": {},
   "outputs": [],
   "source": [
    "import cv2\n",
    "import os\n",
    "import numpy as np\n",
    "import tensorflow as tf\n",
    "import tensorflow_hub as hub\n",
    "from tensorflow import keras\n",
    "from PIL import Image\n",
    "from scipy.spatial import distance\n",
    "import pandas as pd"
   ]
  },
  {
   "cell_type": "code",
   "execution_count": 2,
   "id": "fa61ca11",
   "metadata": {},
   "outputs": [],
   "source": [
    "import json"
   ]
  },
  {
   "cell_type": "markdown",
   "id": "8de8558f",
   "metadata": {},
   "source": [
    "# Preprocess"
   ]
  },
  {
   "cell_type": "code",
   "execution_count": 2,
   "id": "b27dd8ae",
   "metadata": {},
   "outputs": [],
   "source": [
    "# def image2array(folder):\n",
    "#     images = []\n",
    "#     for filename in os.listdir(folder):\n",
    "#         img = cv2.imread(os.path.join(folder,filename))\n",
    "#         img = cv2.cvtColor(img, cv2.COLOR_BGR2RGB)\n",
    "#         img = cv2.resize(img, (224,224))\n",
    "#         if img is not None:\n",
    "#             images.append(np.array(img))\n",
    "#     images = np.array(images)\n",
    "#     images = images.reshape(images.shape[0], 224, 224, 3)\n",
    "#     images = images.astype('float32')\n",
    "#     images /= 255\n",
    "#     return images"
   ]
  },
  {
   "cell_type": "code",
   "execution_count": 3,
   "id": "42643d8c",
   "metadata": {},
   "outputs": [],
   "source": [
    "# train_data = image2array(r\"C:\\\\ITM\\\\pants\")\n",
    "# print(\"Length of training dataset:\",train_data.shape)\n",
    "# # test_data = image2array(test_files)\n",
    "# # print(\"Length of test dataset:\",test_data.shape)"
   ]
  },
  {
   "cell_type": "code",
   "execution_count": 4,
   "id": "d20ce628",
   "metadata": {
    "scrolled": true
   },
   "outputs": [],
   "source": [
    "# from matplotlib import pyplot as plt\n",
    "# plt.imshow(train_data[5], interpolation='nearest')\n",
    "# plt.show()"
   ]
  },
  {
   "cell_type": "markdown",
   "id": "d10e2d7c",
   "metadata": {},
   "source": [
    "# Pre-Trained Model"
   ]
  },
  {
   "cell_type": "code",
   "execution_count": 3,
   "id": "b2b85f6b",
   "metadata": {},
   "outputs": [],
   "source": [
    "model_url = \"https://tfhub.dev/tensorflow/efficientnet/lite0/feature-vector/2\"\n",
    "\n",
    "IMAGE_SHAPE = (224, 224)\n",
    "\n",
    "layer = hub.KerasLayer(model_url, input_shape=IMAGE_SHAPE+(3,))\n",
    "model = tf.keras.Sequential([layer])"
   ]
  },
  {
   "cell_type": "code",
   "execution_count": 4,
   "id": "7fc69ef0",
   "metadata": {},
   "outputs": [
    {
     "name": "stdout",
     "output_type": "stream",
     "text": [
      "WARNING:tensorflow:Compiled the loaded model, but the compiled metrics have yet to be built. `model.compile_metrics` will be empty until you train or evaluate the model.\n"
     ]
    },
    {
     "name": "stderr",
     "output_type": "stream",
     "text": [
      "WARNING:tensorflow:Compiled the loaded model, but the compiled metrics have yet to be built. `model.compile_metrics` will be empty until you train or evaluate the model.\n"
     ]
    }
   ],
   "source": [
    "model.save('./preweight/efficientnet.h5')"
   ]
  },
  {
   "cell_type": "code",
   "execution_count": 5,
   "id": "b16bcc7b",
   "metadata": {},
   "outputs": [
    {
     "name": "stdout",
     "output_type": "stream",
     "text": [
      "Model: \"sequential\"\n",
      "_________________________________________________________________\n",
      " Layer (type)                Output Shape              Param #   \n",
      "=================================================================\n",
      " keras_layer (KerasLayer)    (None, 1280)              3413024   \n",
      "                                                                 \n",
      "=================================================================\n",
      "Total params: 3,413,024\n",
      "Trainable params: 0\n",
      "Non-trainable params: 3,413,024\n",
      "_________________________________________________________________\n"
     ]
    }
   ],
   "source": [
    "model.summary()"
   ]
  },
  {
   "cell_type": "code",
   "execution_count": 2,
   "id": "1d6a91f2",
   "metadata": {},
   "outputs": [
    {
     "name": "stdout",
     "output_type": "stream",
     "text": [
      "WARNING:tensorflow:No training configuration found in the save file, so the model was *not* compiled. Compile it manually.\n"
     ]
    },
    {
     "name": "stderr",
     "output_type": "stream",
     "text": [
      "WARNING:tensorflow:No training configuration found in the save file, so the model was *not* compiled. Compile it manually.\n"
     ]
    }
   ],
   "source": [
    "IMAGE_SHAPE = (224, 224)\n",
    "test_model = keras.models.load_model('./preweight/efficientnet.h5',custom_objects={'KerasLayer':hub.KerasLayer})"
   ]
  },
  {
   "cell_type": "code",
   "execution_count": 4,
   "id": "dda6f5ab",
   "metadata": {
    "scrolled": true
   },
   "outputs": [
    {
     "name": "stdout",
     "output_type": "stream",
     "text": [
      "Model: \"sequential\"\n",
      "_________________________________________________________________\n",
      " Layer (type)                Output Shape              Param #   \n",
      "=================================================================\n",
      " keras_layer (KerasLayer)    (None, 1280)              3413024   \n",
      "                                                                 \n",
      "=================================================================\n",
      "Total params: 3,413,024\n",
      "Trainable params: 0\n",
      "Non-trainable params: 3,413,024\n",
      "_________________________________________________________________\n"
     ]
    }
   ],
   "source": [
    "test_model.summary()"
   ]
  },
  {
   "cell_type": "code",
   "execution_count": 9,
   "id": "9267c159",
   "metadata": {},
   "outputs": [],
   "source": [
    "def extract(file):\n",
    "    file = Image.open(file).convert('L').resize(IMAGE_SHAPE)\n",
    "    display(file)\n",
    "\n",
    "    file = np.stack((file,)*3, axis=-1)\n",
    "\n",
    "    file = np.array(file)/255.0\n",
    "\n",
    "    embedding = test_model.predict(file[np.newaxis, ...])\n",
    "#     print(embedding)\n",
    "    vgg16_feature_np = np.array(embedding)\n",
    "    flattended_feature = vgg16_feature_np.flatten()\n",
    "\n",
    "    #print(len(flattended_feature))\n",
    "    #print(flattended_feature)\n",
    "    #print('-----------')\n",
    "    return flattended_feature"
   ]
  },
  {
   "cell_type": "code",
   "execution_count": 5,
   "id": "004a8bd4",
   "metadata": {},
   "outputs": [],
   "source": [
    "def extractAll(folder):\n",
    "    images = []\n",
    "    data = {\n",
    "        \"feature\": [],\n",
    "        \"name\": []\n",
    "    }\n",
    "    df = pd.DataFrame(data)\n",
    "    for filename in os.listdir(folder):\n",
    "        img = extract(os.path.join(folder,filename))\n",
    "        if img is not None:           \n",
    "#             images.append(np.array(img))\n",
    "            df.loc[len(df.index)] = [img,filename] \n",
    "    return df"
   ]
  },
  {
   "cell_type": "code",
   "execution_count": 21,
   "id": "eab1d0e7",
   "metadata": {},
   "outputs": [],
   "source": [
    "pants1 = extract(r'C:\\ITM\\pants\\3.png')\n",
    "pants2 = extract(r'C:\\ITM\\pants\\5.png')\n",
    "skirt1 = extract(r'C:\\ITM\\skirt\\1.png')"
   ]
  },
  {
   "cell_type": "code",
   "execution_count": 10,
   "id": "49837c87",
   "metadata": {},
   "outputs": [
    {
     "data": {
      "text/plain": [
       "(1280,)"
      ]
     },
     "execution_count": 10,
     "metadata": {},
     "output_type": "execute_result"
    }
   ],
   "source": [
    "pants1.shape"
   ]
  },
  {
   "cell_type": "code",
   "execution_count": 6,
   "id": "3cb425f3",
   "metadata": {
    "scrolled": true
   },
   "outputs": [
    {
     "name": "stderr",
     "output_type": "stream",
     "text": [
      "C:\\Users\\JoEy.S\\anaconda3\\envs\\tmrcnnt3\\lib\\site-packages\\pandas\\core\\dtypes\\cast.py:948: VisibleDeprecationWarning: Creating an ndarray from ragged nested sequences (which is a list-or-tuple of lists-or-tuples-or ndarrays with different lengths or shapes) is deprecated. If you meant to do this, you must specify 'dtype=object' when creating the ndarray.\n",
      "  element = np.asarray(element)\n"
     ]
    },
    {
     "data": {
      "text/plain": [
       "pandas.core.frame.DataFrame"
      ]
     },
     "execution_count": 6,
     "metadata": {},
     "output_type": "execute_result"
    }
   ],
   "source": [
    "images = extractAll(r\"C:\\Users\\JoEy.S\\Documents\\GitHub\\ITM_Group4_Reverse_Image_Search_for_Online_Shopping\\Datasets\\Arbid\\Arbid_shirt_1\")\n",
    "type(images)"
   ]
  },
  {
   "cell_type": "code",
   "execution_count": 7,
   "id": "6f3d6ef7",
   "metadata": {
    "scrolled": true
   },
   "outputs": [
    {
     "data": {
      "text/html": [
       "<div>\n",
       "<style scoped>\n",
       "    .dataframe tbody tr th:only-of-type {\n",
       "        vertical-align: middle;\n",
       "    }\n",
       "\n",
       "    .dataframe tbody tr th {\n",
       "        vertical-align: top;\n",
       "    }\n",
       "\n",
       "    .dataframe thead th {\n",
       "        text-align: right;\n",
       "    }\n",
       "</style>\n",
       "<table border=\"1\" class=\"dataframe\">\n",
       "  <thead>\n",
       "    <tr style=\"text-align: right;\">\n",
       "      <th></th>\n",
       "      <th>feature</th>\n",
       "      <th>name</th>\n",
       "    </tr>\n",
       "  </thead>\n",
       "  <tbody>\n",
       "    <tr>\n",
       "      <th>0</th>\n",
       "      <td>[0.014319153, 0.0, 0.018299231, 0.0, 0.0, 0.0,...</td>\n",
       "      <td>Arbid_shirt_ (1).jpg</td>\n",
       "    </tr>\n",
       "    <tr>\n",
       "      <th>1</th>\n",
       "      <td>[0.0014879382, 0.0, 0.49348387, 0.104236506, 0...</td>\n",
       "      <td>Arbid_shirt_ (10).jpg</td>\n",
       "    </tr>\n",
       "    <tr>\n",
       "      <th>2</th>\n",
       "      <td>[0.0072918436, 0.0, 0.00873647, 0.0, 0.0, 0.0,...</td>\n",
       "      <td>Arbid_shirt_ (100).jpg</td>\n",
       "    </tr>\n",
       "    <tr>\n",
       "      <th>3</th>\n",
       "      <td>[0.41508704, 0.0, 0.17056173, 0.0, 0.0, 0.0, 0...</td>\n",
       "      <td>Arbid_shirt_ (1000).jpg</td>\n",
       "    </tr>\n",
       "    <tr>\n",
       "      <th>4</th>\n",
       "      <td>[0.34005332, 0.0, 0.41346347, 0.09129969, 0.0,...</td>\n",
       "      <td>Arbid_shirt_ (1001).jpg</td>\n",
       "    </tr>\n",
       "    <tr>\n",
       "      <th>...</th>\n",
       "      <td>...</td>\n",
       "      <td>...</td>\n",
       "    </tr>\n",
       "    <tr>\n",
       "      <th>1047</th>\n",
       "      <td>[0.15238844, 0.0, 0.37246576, 0.0, 0.0, 0.0, 0...</td>\n",
       "      <td>Arbid_shirt_ (995).jpg</td>\n",
       "    </tr>\n",
       "    <tr>\n",
       "      <th>1048</th>\n",
       "      <td>[0.10490531, 0.0, 0.69175196, 0.042719953, 0.0...</td>\n",
       "      <td>Arbid_shirt_ (996).jpg</td>\n",
       "    </tr>\n",
       "    <tr>\n",
       "      <th>1049</th>\n",
       "      <td>[0.040088236, 0.0, 0.5167002, 0.0019237294, 0....</td>\n",
       "      <td>Arbid_shirt_ (997).jpg</td>\n",
       "    </tr>\n",
       "    <tr>\n",
       "      <th>1050</th>\n",
       "      <td>[0.0, 0.0, 0.06832594, 0.0, 0.0, 0.0, 0.0, 0.0...</td>\n",
       "      <td>Arbid_shirt_ (998).jpg</td>\n",
       "    </tr>\n",
       "    <tr>\n",
       "      <th>1051</th>\n",
       "      <td>[0.050469447, 0.0, 0.21362437, 0.0093677705, 0...</td>\n",
       "      <td>Arbid_shirt_ (999).jpg</td>\n",
       "    </tr>\n",
       "  </tbody>\n",
       "</table>\n",
       "<p>1052 rows × 2 columns</p>\n",
       "</div>"
      ],
      "text/plain": [
       "                                                feature  \\\n",
       "0     [0.014319153, 0.0, 0.018299231, 0.0, 0.0, 0.0,...   \n",
       "1     [0.0014879382, 0.0, 0.49348387, 0.104236506, 0...   \n",
       "2     [0.0072918436, 0.0, 0.00873647, 0.0, 0.0, 0.0,...   \n",
       "3     [0.41508704, 0.0, 0.17056173, 0.0, 0.0, 0.0, 0...   \n",
       "4     [0.34005332, 0.0, 0.41346347, 0.09129969, 0.0,...   \n",
       "...                                                 ...   \n",
       "1047  [0.15238844, 0.0, 0.37246576, 0.0, 0.0, 0.0, 0...   \n",
       "1048  [0.10490531, 0.0, 0.69175196, 0.042719953, 0.0...   \n",
       "1049  [0.040088236, 0.0, 0.5167002, 0.0019237294, 0....   \n",
       "1050  [0.0, 0.0, 0.06832594, 0.0, 0.0, 0.0, 0.0, 0.0...   \n",
       "1051  [0.050469447, 0.0, 0.21362437, 0.0093677705, 0...   \n",
       "\n",
       "                         name  \n",
       "0        Arbid_shirt_ (1).jpg  \n",
       "1       Arbid_shirt_ (10).jpg  \n",
       "2      Arbid_shirt_ (100).jpg  \n",
       "3     Arbid_shirt_ (1000).jpg  \n",
       "4     Arbid_shirt_ (1001).jpg  \n",
       "...                       ...  \n",
       "1047   Arbid_shirt_ (995).jpg  \n",
       "1048   Arbid_shirt_ (996).jpg  \n",
       "1049   Arbid_shirt_ (997).jpg  \n",
       "1050   Arbid_shirt_ (998).jpg  \n",
       "1051   Arbid_shirt_ (999).jpg  \n",
       "\n",
       "[1052 rows x 2 columns]"
      ]
     },
     "execution_count": 7,
     "metadata": {},
     "output_type": "execute_result"
    }
   ],
   "source": [
    "images"
   ]
  },
  {
   "cell_type": "code",
   "execution_count": 8,
   "id": "e7d2108b",
   "metadata": {},
   "outputs": [],
   "source": [
    "def findClosest(x,df):\n",
    "    metric = 'cosine'\n",
    "    data = {\n",
    "        \"distance\": [],\n",
    "        \"name\": []\n",
    "    }\n",
    "    result_df = pd.DataFrame(data)\n",
    "    for i in df.index:          \n",
    "        dc = distance.cdist([x], [df['feature'][i]], metric)[0]\n",
    "        if dc is not None:\n",
    "            result_df.loc[len(result_df.index)] = [dc,df['name'][i]]\n",
    "    return result_df.sort_values(by=['distance'])"
   ]
  },
  {
   "cell_type": "code",
   "execution_count": 12,
   "id": "8f407eea",
   "metadata": {},
   "outputs": [
    {
     "data": {
      "text/plain": [
       "numpy.ndarray"
      ]
     },
     "execution_count": 12,
     "metadata": {},
     "output_type": "execute_result"
    }
   ],
   "source": [
    "images = np.array(images)\n",
    "type(images)"
   ]
  },
  {
   "cell_type": "code",
   "execution_count": 15,
   "id": "02a67389",
   "metadata": {},
   "outputs": [
    {
     "data": {
      "text/plain": [
       "6"
      ]
     },
     "execution_count": 15,
     "metadata": {},
     "output_type": "execute_result"
    }
   ],
   "source": [
    "images.shape[0]"
   ]
  },
  {
   "cell_type": "code",
   "execution_count": 17,
   "id": "32718ed1",
   "metadata": {},
   "outputs": [],
   "source": [
    "metric = 'cosine'"
   ]
  },
  {
   "cell_type": "code",
   "execution_count": null,
   "id": "e40701de",
   "metadata": {},
   "outputs": [],
   "source": [
    "dc = distance.cdist([x], [pants1], metric)[0]\n",
    "print(dc)\n",
    "print(\"the distance between pants1 and the pants1 is {}\".format(dc))"
   ]
  },
  {
   "cell_type": "code",
   "execution_count": 102,
   "id": "562270e1",
   "metadata": {},
   "outputs": [],
   "source": [
    "# def findClosest(x,items):\n",
    "#     metric = 'cosine'\n",
    "#     dc_array = []\n",
    "#     for item in range(0,items.shape[0]) :\n",
    "#         dc = distance.cdist([x], [items[item]], metric)[0]\n",
    "#         if item is not None:\n",
    "#             dc = np.append(dc,item)\n",
    "#             print(dc.shape)\n",
    "#             dc_array.append(np.array(dc))\n",
    "# #     dc_array.sort()\n",
    "# #     dc_array = dc_array[dc_array[:,1].argsort(kind='mergesort')] #error\n",
    "#     return np.array(dc_array)"
   ]
  },
  {
   "cell_type": "markdown",
   "id": "616e6f7b",
   "metadata": {},
   "source": [
    "# image store to json and extract"
   ]
  },
  {
   "cell_type": "code",
   "execution_count": 9,
   "id": "43e90ae4",
   "metadata": {},
   "outputs": [],
   "source": [
    "x = extract(r'C:\\Users\\JoEy.S\\Documents\\GitHub\\ITM_Group4_Reverse_Image_Search_for_Online_Shopping\\Datasets\\Arbid\\Arbid_shirt_1\\Arbid_shirt_ (275).jpg')"
   ]
  },
  {
   "cell_type": "code",
   "execution_count": 13,
   "id": "509b9dbe",
   "metadata": {},
   "outputs": [
    {
     "data": {
      "image/png": "[encoded data removed]",
      "text/plain": [
       "<PIL.Image.Image image mode=L size=224x224 at 0x2667452B3A0>"
      ]
     },
     "metadata": {},
     "output_type": "display_data"
    },
    {
     "data": {
      "image/png": "[encoded data removed]",
      "text/plain": [
       "<PIL.Image.Image image mode=L size=224x224 at 0x267066AA880>"
      ]
     },
     "metadata": {},
     "output_type": "display_data"
    },
    {
     "data": {
      "image/png": "[encoded data removed]",
      "text/plain": [
       "<PIL.Image.Image image mode=L size=224x224 at 0x266FE6399A0>"
      ]
     },
     "metadata": {},
     "output_type": "display_data"
    },
    {
     "data": {
      "image/png": "[encoded data removed]",
      "text/plain": [
       "<PIL.Image.Image image mode=L size=224x224 at 0x266FE7AF520>"
      ]
     },
     "metadata": {},
     "output_type": "display_data"
    },
    {
     "data": {
      "image/png": "[encoded data removed]",
      "text/plain": [
       "<PIL.Image.Image image mode=L size=224x224 at 0x2670B63C1C0>"
      ]
     },
     "metadata": {},
     "output_type": "display_data"
    },
    {
     "data": {
      "image/png": "[encoded data removed]",
      "text/plain": [
       "<PIL.Image.Image image mode=L size=224x224 at 0x26665810940>"
      ]
     },
     "metadata": {},
     "output_type": "display_data"
    }
   ],
   "source": [
    "t1 = extract(r'C:\\Users\\JoEy.S\\Downloads\\joe.jpg')\n",
    "t2 = extract(r'C:\\Users\\JoEy.S\\Downloads\\joe (2).jpg')\n",
    "t3 = extract(r'C:\\Users\\JoEy.S\\Downloads\\joe (3).jpg')\n",
    "t4 = extract(r'C:\\Users\\JoEy.S\\Downloads\\joe (4).jpg')\n",
    "t5 = extract(r'C:\\Users\\JoEy.S\\Downloads\\joe (5).jpg')\n",
    "t6 = extract(r'C:\\Users\\JoEy.S\\Downloads\\joe (6).jpg')"
   ]
  },
  {
   "cell_type": "code",
   "execution_count": 14,
   "id": "2dee1bdb",
   "metadata": {},
   "outputs": [
    {
     "name": "stderr",
     "output_type": "stream",
     "text": [
      "C:\\Users\\JoEy.S\\anaconda3\\envs\\tmrcnnt3\\lib\\site-packages\\pandas\\core\\dtypes\\cast.py:948: VisibleDeprecationWarning: Creating an ndarray from ragged nested sequences (which is a list-or-tuple of lists-or-tuples-or ndarrays with different lengths or shapes) is deprecated. If you meant to do this, you must specify 'dtype=object' when creating the ndarray.\n",
      "  element = np.asarray(element)\n"
     ]
    },
    {
     "name": "stdout",
     "output_type": "stream",
     "text": [
      "                  distance                     name\n",
      "611   [0.6415485059943961]   Arbid_shirt_ (601).jpg\n",
      "211   [0.6421189381109971]   Arbid_shirt_ (241).jpg\n",
      "22    [0.6432883785147195]  Arbid_shirt_ (1018).jpg\n",
      "903   [0.6448008583642217]   Arbid_shirt_ (865).jpg\n",
      "30    [0.6488937179172364]  Arbid_shirt_ (1025).jpg\n",
      "...                    ...                      ...\n",
      "852   [0.8345364414730794]   Arbid_shirt_ (819).jpg\n",
      "663   [0.8385116271311349]   Arbid_shirt_ (649).jpg\n",
      "337   [0.8386180535147215]   Arbid_shirt_ (355).jpg\n",
      "495   [0.8407127499561343]   Arbid_shirt_ (498).jpg\n",
      "1021  [0.8492409574684793]   Arbid_shirt_ (971).jpg\n",
      "\n",
      "[1052 rows x 2 columns]\n"
     ]
    },
    {
     "name": "stderr",
     "output_type": "stream",
     "text": [
      "C:\\Users\\JoEy.S\\anaconda3\\envs\\tmrcnnt3\\lib\\site-packages\\pandas\\core\\dtypes\\cast.py:948: VisibleDeprecationWarning: Creating an ndarray from ragged nested sequences (which is a list-or-tuple of lists-or-tuples-or ndarrays with different lengths or shapes) is deprecated. If you meant to do this, you must specify 'dtype=object' when creating the ndarray.\n",
      "  element = np.asarray(element)\n"
     ]
    },
    {
     "name": "stdout",
     "output_type": "stream",
     "text": [
      "                  distance                    name\n",
      "627   [0.7223288017819709]  Arbid_shirt_ (616).jpg\n",
      "503    [0.722529461626374]  Arbid_shirt_ (504).jpg\n",
      "423   [0.7465747992059208]  Arbid_shirt_ (432).jpg\n",
      "842   [0.7497299573143078]   Arbid_shirt_ (81).jpg\n",
      "250   [0.7531449021984581]  Arbid_shirt_ (277).jpg\n",
      "...                    ...                     ...\n",
      "1050  [0.8883020769605864]  Arbid_shirt_ (998).jpg\n",
      "950   [0.8883685525383438]  Arbid_shirt_ (907).jpg\n",
      "96    [0.8884606022357624]  Arbid_shirt_ (138).jpg\n",
      "890   [0.8889310002194163]  Arbid_shirt_ (853).jpg\n",
      "1002  [0.8933853113041693]  Arbid_shirt_ (954).jpg\n",
      "\n",
      "[1052 rows x 2 columns]\n"
     ]
    },
    {
     "name": "stderr",
     "output_type": "stream",
     "text": [
      "C:\\Users\\JoEy.S\\anaconda3\\envs\\tmrcnnt3\\lib\\site-packages\\pandas\\core\\dtypes\\cast.py:948: VisibleDeprecationWarning: Creating an ndarray from ragged nested sequences (which is a list-or-tuple of lists-or-tuples-or ndarrays with different lengths or shapes) is deprecated. If you meant to do this, you must specify 'dtype=object' when creating the ndarray.\n",
      "  element = np.asarray(element)\n"
     ]
    },
    {
     "name": "stdout",
     "output_type": "stream",
     "text": [
      "                  distance                     name\n",
      "611   [0.6721598995964496]   Arbid_shirt_ (601).jpg\n",
      "250   [0.6827089799208647]   Arbid_shirt_ (277).jpg\n",
      "854   [0.6903996090403435]   Arbid_shirt_ (820).jpg\n",
      "903   [0.6926812496338342]   Arbid_shirt_ (865).jpg\n",
      "627   [0.6953845398349268]   Arbid_shirt_ (616).jpg\n",
      "...                    ...                      ...\n",
      "1010  [0.8589592012689143]   Arbid_shirt_ (961).jpg\n",
      "56     [0.861251165741018]  Arbid_shirt_ (1049).jpg\n",
      "921   [0.8646099856361177]   Arbid_shirt_ (881).jpg\n",
      "841   [0.8647432672365403]   Arbid_shirt_ (809).jpg\n",
      "705   [0.8707769221234095]   Arbid_shirt_ (687).jpg\n",
      "\n",
      "[1052 rows x 2 columns]\n"
     ]
    },
    {
     "name": "stderr",
     "output_type": "stream",
     "text": [
      "C:\\Users\\JoEy.S\\anaconda3\\envs\\tmrcnnt3\\lib\\site-packages\\pandas\\core\\dtypes\\cast.py:948: VisibleDeprecationWarning: Creating an ndarray from ragged nested sequences (which is a list-or-tuple of lists-or-tuples-or ndarrays with different lengths or shapes) is deprecated. If you meant to do this, you must specify 'dtype=object' when creating the ndarray.\n",
      "  element = np.asarray(element)\n"
     ]
    },
    {
     "name": "stdout",
     "output_type": "stream",
     "text": [
      "                 distance                    name\n",
      "611  [0.6090331064023775]  Arbid_shirt_ (601).jpg\n",
      "423  [0.6223650652564495]  Arbid_shirt_ (432).jpg\n",
      "503  [0.6306545344891753]  Arbid_shirt_ (504).jpg\n",
      "689  [0.6478764309367959]  Arbid_shirt_ (672).jpg\n",
      "780  [0.6554366975619073]  Arbid_shirt_ (754).jpg\n",
      "..                    ...                     ...\n",
      "581  [0.7958808267198372]  Arbid_shirt_ (575).jpg\n",
      "496  [0.7961072680085381]  Arbid_shirt_ (499).jpg\n",
      "309  [0.7989258913377083]   Arbid_shirt_ (33).jpg\n",
      "274  [0.8023224928855073]  Arbid_shirt_ (299).jpg\n",
      "852  [0.8079374478881699]  Arbid_shirt_ (819).jpg\n",
      "\n",
      "[1052 rows x 2 columns]\n"
     ]
    },
    {
     "name": "stderr",
     "output_type": "stream",
     "text": [
      "C:\\Users\\JoEy.S\\anaconda3\\envs\\tmrcnnt3\\lib\\site-packages\\pandas\\core\\dtypes\\cast.py:948: VisibleDeprecationWarning: Creating an ndarray from ragged nested sequences (which is a list-or-tuple of lists-or-tuples-or ndarrays with different lengths or shapes) is deprecated. If you meant to do this, you must specify 'dtype=object' when creating the ndarray.\n",
      "  element = np.asarray(element)\n"
     ]
    },
    {
     "name": "stdout",
     "output_type": "stream",
     "text": [
      "                 distance                    name\n",
      "503   [0.621820871011354]  Arbid_shirt_ (504).jpg\n",
      "903  [0.6526190161606915]  Arbid_shirt_ (865).jpg\n",
      "627   [0.664381590065735]  Arbid_shirt_ (616).jpg\n",
      "611  [0.6909796458566118]  Arbid_shirt_ (601).jpg\n",
      "680  [0.6935146888134984]  Arbid_shirt_ (664).jpg\n",
      "..                    ...                     ...\n",
      "688  [0.8286760724815545]  Arbid_shirt_ (671).jpg\n",
      "638  [0.8290438342220396]  Arbid_shirt_ (626).jpg\n",
      "723  [0.8312751246195824]  Arbid_shirt_ (702).jpg\n",
      "970  [0.8325028027667835]  Arbid_shirt_ (925).jpg\n",
      "96   [0.8335979025095143]  Arbid_shirt_ (138).jpg\n",
      "\n",
      "[1052 rows x 2 columns]\n"
     ]
    },
    {
     "name": "stderr",
     "output_type": "stream",
     "text": [
      "C:\\Users\\JoEy.S\\anaconda3\\envs\\tmrcnnt3\\lib\\site-packages\\pandas\\core\\dtypes\\cast.py:948: VisibleDeprecationWarning: Creating an ndarray from ragged nested sequences (which is a list-or-tuple of lists-or-tuples-or ndarrays with different lengths or shapes) is deprecated. If you meant to do this, you must specify 'dtype=object' when creating the ndarray.\n",
      "  element = np.asarray(element)\n"
     ]
    },
    {
     "name": "stdout",
     "output_type": "stream",
     "text": [
      "                 distance                    name\n",
      "250   [0.646380853462417]  Arbid_shirt_ (277).jpg\n",
      "842  [0.6483853896818337]   Arbid_shirt_ (81).jpg\n",
      "568  [0.6587794672115403]  Arbid_shirt_ (563).jpg\n",
      "219   [0.663810956741507]  Arbid_shirt_ (249).jpg\n",
      "563  [0.6669161385249662]  Arbid_shirt_ (559).jpg\n",
      "..                    ...                     ...\n",
      "389  [0.7960801446644761]  Arbid_shirt_ (401).jpg\n",
      "706  [0.7989890494945844]  Arbid_shirt_ (688).jpg\n",
      "927  [0.8001601479561357]  Arbid_shirt_ (887).jpg\n",
      "676  [0.8037295559497029]  Arbid_shirt_ (660).jpg\n",
      "96   [0.8064622244953978]  Arbid_shirt_ (138).jpg\n",
      "\n",
      "[1052 rows x 2 columns]\n"
     ]
    }
   ],
   "source": [
    "result = findClosest(t1,images)\n",
    "print(result)\n",
    "result = findClosest(t2,images)\n",
    "print(result)\n",
    "result = findClosest(t3,images)\n",
    "print(result)\n",
    "result = findClosest(t4,images)\n",
    "print(result)\n",
    "result = findClosest(t5,images)\n",
    "print(result)\n",
    "result = findClosest(t6,images)\n",
    "print(result)"
   ]
  },
  {
   "cell_type": "code",
   "execution_count": 12,
   "id": "01ea7a05",
   "metadata": {},
   "outputs": [
    {
     "data": {
      "text/plain": [
       "numpy.ndarray"
      ]
     },
     "execution_count": 12,
     "metadata": {},
     "output_type": "execute_result"
    }
   ],
   "source": [
    "type(x)"
   ]
  },
  {
   "cell_type": "code",
   "execution_count": 30,
   "id": "d6ca31ee",
   "metadata": {},
   "outputs": [],
   "source": [
    "jsn = json.dumps(x.tolist())"
   ]
  },
  {
   "cell_type": "code",
   "execution_count": 14,
   "id": "c29a5cc4",
   "metadata": {
    "collapsed": true
   },
   "outputs": [
    {
     "data": {
      "text/plain": [
       "'[0.051723968237638474, 0.0, 0.09897536784410477, 0.0, 0.0, 0.0, 0.0, 0.1774028241634369, 0.0, 0.0, 0.01474226824939251, 0.0, 0.036639504134655, 0.0018367682350799441, 0.0, 0.08362532407045364, 0.0, 0.0, 0.0, 0.13583458960056305, 0.0, 0.0, 0.0, 0.011785304173827171, 0.0, 0.0, 0.22030887007713318, 0.15923987329006195, 0.8236945867538452, 0.22613081336021423, 0.0018958182772621512, 0.04673737287521362, 0.01844767853617668, 0.0, 1.7450262308120728, 0.3015909790992737, 0.0, 0.0, 0.0, 1.665256381034851, 0.0, 0.9574573040008545, 0.0, 0.0, 0.023872010409832, 0.0, 0.0, 0.0, 0.02160099521279335, 0.07308090478181839, 0.0, 0.15312206745147705, 0.0, 0.0035893607418984175, 0.0, 0.0, 0.09893351048231125, 0.0, 0.0, 0.0, 0.6369576454162598, 0.005761856213212013, 0.0, 1.1790012121200562, 0.0, 0.0, 0.0, 0.0, 0.006983019411563873, 0.0, 0.0, 0.20576722919940948, 0.0, 0.0, 0.0, 0.0, 0.0, 0.060320816934108734, 0.0, 0.06766537576913834, 0.0, 0.15022552013397217, 0.0, 0.012918445281684399, 0.27782320976257324, 0.0, 0.0, 0.0, 0.17831270396709442, 0.0, 0.0, 0.0, 0.0, 0.0, 0.2413078248500824, 0.0244892667979002, 0.0, 0.0, 0.0, 0.0, 1.0799933671951294, 0.0, 0.022540444508194923, 0.0, 0.0, 0.0034054520074278116, 0.0, 0.0, 0.2857137620449066, 1.5740340948104858, 0.05432775989174843, 0.0, 0.0, 1.2961839437484741, 0.0, 0.3564472496509552, 0.0, 0.041864145547151566, 0.18184104561805725, 0.0, 0.0, 0.0, 0.02558489888906479, 0.03056197240948677, 0.0, 0.014813805930316448, 0.048999227583408356, 0.0, 0.0, 0.27446988224983215, 0.07025468349456787, 0.04900616034865379, 0.0, 0.9588538408279419, 0.0, 0.0, 0.0, 0.0, 0.0, 0.6341345906257629, 0.0, 0.0, 0.010121652856469154, 0.0, 0.0, 0.0, 1.6491529941558838, 0.0, 0.08230374753475189, 0.0, 0.0, 0.0, 0.0, 0.0, 0.04019951820373535, 0.0, 0.0, 0.004973945673555136, 0.0, 0.2550821602344513, 0.0, 0.0, 0.06871414929628372, 0.14961788058280945, 1.4164470434188843, 0.0, 0.0641389936208725, 0.004286378156393766, 0.0, 0.0, 2.117455244064331, 0.022749511525034904, 0.7665539383888245, 0.0, 0.0, 0.0, 0.03860803321003914, 0.0, 0.06727226078510284, 0.0, 0.0, 0.0, 0.47434452176094055, 0.0, 0.0, 0.0, 0.0, 0.0, 0.0, 0.0, 0.0, 0.0, 0.0, 0.055757973343133926, 0.0, 1.3737776279449463, 2.6907691955566406, 0.0, 0.0, 1.348299503326416, 0.28482288122177124, 0.008939574472606182, 0.23729147017002106, 0.0, 0.017327629029750824, 0.004651778843253851, 0.0, 0.20842023193836212, 0.0, 0.0, 0.0, 0.0, 0.007680074777454138, 0.26153114438056946, 0.16886012256145477, 0.0, 0.0, 0.0, 0.0, 0.0, 0.5774170756340027, 0.0, 0.0, 0.13738204538822174, 0.0, 0.0, 1.2871572971343994, 0.0, 0.0, 0.0, 0.0, 0.03715832531452179, 0.0, 0.0, 1.811301589012146, 0.14791300892829895, 0.0, 0.005088383331894875, 0.0, 0.0, 0.0, 0.023708321154117584, 0.008651286363601685, 0.06258542090654373, 0.0, 0.016899650916457176, 0.01170627772808075, 0.0, 0.1265821009874344, 0.0, 0.033479828387498856, 0.0, 0.0, 0.0, 0.0, 0.3488011360168457, 0.2455981969833374, 1.4244903326034546, 0.0, 0.0, 0.0021576909348368645, 1.3538750410079956, 0.0, 0.0, 0.0, 0.0, 0.0725560262799263, 0.0, 0.4772341549396515, 0.3930325508117676, 0.355164110660553, 0.006839221343398094, 0.0, 0.565511167049408, 0.0, 0.03146238625049591, 0.0, 0.0, 0.0, 0.0, 0.06139005348086357, 0.0, 1.5847036838531494, 0.000279683037661016, 0.0, 0.0, 0.1015651598572731, 0.0, 1.465855360031128, 0.0, 0.0, 0.4700930416584015, 0.009945356287062168, 0.24658538401126862, 0.3638402223587036, 0.0, 0.0, 0.0, 0.0, 0.5103172659873962, 0.9857956767082214, 0.0, 0.008416269905865192, 0.09490394592285156, 0.0, 0.0, 0.0, 0.0, 0.023498322814702988, 0.016051040962338448, 0.030235152691602707, 0.031670089811086655, 0.0, 0.0, 0.0, 0.3474626839160919, 0.8003318905830383, 0.0, 0.0, 0.05374889075756073, 0.0, 0.4509781002998352, 0.0, 0.0781836062669754, 0.0, 0.2662922739982605, 0.0, 0.0, 0.0, 0.01311322022229433, 0.0, 0.0, 0.0854015126824379, 0.0, 0.3711559474468231, 0.0, 0.0, 0.3478769063949585, 0.9669486880302429, 0.0, 0.0711764320731163, 0.0, 0.0809900090098381, 0.6040580868721008, 0.0, 0.39202961325645447, 0.0, 0.754337728023529, 0.0, 0.0, 0.0, 1.472665548324585, 0.0, 0.0, 0.20743657648563385, 0.0, 0.024631351232528687, 0.0, 0.0, 0.02275209315121174, 0.06687474995851517, 0.0, 0.5806268453598022, 0.0, 0.0, 0.39630061388015747, 0.0, 0.03895995393395424, 0.0, 0.0, 0.6333341598510742, 0.0, 2.485684871673584, 0.0, 0.0, 0.0, 0.0, 0.0, 0.0, 0.0, 0.0, 0.0, 0.0, 0.0, 0.0, 0.0, 0.0, 0.0, 0.0, 0.0290936641395092, 0.0, 0.04355665296316147, 0.0, 0.0, 0.1562676727771759, 0.0, 0.0, 0.9220866560935974, 0.007228413596749306, 0.0, 1.4651153087615967, 0.0, 0.0, 0.0, 0.15341541171073914, 0.0, 0.5069661140441895, 1.129300832748413, 2.228196382522583, 0.0, 0.0, 0.0, 0.16378328204154968, 0.24148400127887726, 0.1567157804965973, 0.002881645457819104, 0.0, 0.07941396534442902, 0.0, 0.0, 0.0, 0.0, 0.7594754099845886, 0.08097042888402939, 0.0, 0.695182204246521, 0.0, 0.0, 0.0, 0.0, 0.0, 0.0, 0.0, 0.0, 1.0351313352584839, 0.0, 0.0, 0.0, 0.0, 0.12155082076787949, 0.0, 0.0, 0.0014605086762458086, 0.0, 1.0172704458236694, 0.007951739244163036, 0.0023834682069718838, 0.04826320335268974, 0.0, 0.0, 0.0, 0.048857610672712326, 0.014942387118935585, 0.0, 0.003189528826624155, 1.8964649438858032, 1.5195521116256714, 0.10249128192663193, 0.0, 0.0, 0.0, 0.0, 0.8676822185516357, 0.0, 0.022558167576789856, 0.0, 0.0, 0.0, 0.3042386472225189, 0.0, 0.0, 0.0, 1.87767493724823, 1.0784603357315063, 0.029265422374010086, 0.09212692081928253, 0.0, 0.1719418615102768, 0.0, 0.0, 0.4506208896636963, 0.032570552080869675, 0.0, 0.10119839012622833, 0.0, 0.0, 0.0, 0.2796814441680908, 0.0, 0.6035380959510803, 0.0, 0.0, 0.0, 1.6333359479904175, 0.03900272399187088, 0.04107788950204849, 0.0, 0.07586800307035446, 0.0, 0.0, 0.0, 0.9002510905265808, 0.0, 0.0, 0.0, 0.10179173201322556, 2.0393898487091064, 0.0, 0.0, 0.0, 0.046338606625795364, 0.19787032902240753, 0.0, 0.23399794101715088, 0.0, 0.0, 0.3861025869846344, 0.02161947824060917, 0.0, 0.10586777329444885, 0.0, 0.6336045265197754, 1.0735172033309937, 0.0, 0.0, 0.20306098461151123, 0.03034254163503647, 0.0, 0.44000646471977234, 0.0, 0.0, 0.08103834837675095, 0.009368013590574265, 0.0, 1.228664755821228, 0.11600412428379059, 0.0, 0.0, 0.3960379362106323, 0.49481406807899475, 0.04539734125137329, 0.014183960855007172, 0.0, 0.0, 0.6063253283500671, 0.0, 0.2526616156101227, 0.0, 0.12269590049982071, 0.013721613213419914, 0.0, 0.036845169961452484, 0.0, 0.0, 0.8091492652893066, 0.0, 1.0648506879806519, 0.09972566366195679, 0.18875974416732788, 0.0, 0.11513885855674744, 0.0, 0.0, 0.0, 0.0, 0.01836732029914856, 0.16049619019031525, 0.0, 0.016978083178400993, 0.0, 0.05512182414531708, 0.0, 0.7003690004348755, 0.0, 0.0, 0.0, 1.4428340196609497, 0.054067213088274, 0.0, 0.0, 0.0, 0.29653120040893555, 0.0856301411986351, 0.0, 0.0, 0.5465723276138306, 0.21170151233673096, 0.0, 0.34966227412223816, 0.0, 0.0, 0.020386194810271263, 0.38821613788604736, 0.77701336145401, 0.0, 0.0, 0.0, 0.0, 0.016807928681373596, 0.0, 0.030010705813765526, 0.0, 0.0, 0.6711249947547913, 0.0, 0.0, 0.0, 0.04888872057199478, 0.08733218163251877, 0.0, 0.0, 0.0, 0.0, 0.0, 0.0, 0.044288940727710724, 0.0, 0.04843500629067421, 0.0, 0.0, 0.0808573067188263, 0.4233536124229431, 0.0, 0.0, 0.4960344135761261, 0.009753482416272163, 0.07637935876846313, 0.0, 0.13470833003520966, 0.0, 0.5064086318016052, 0.0, 0.0, 0.0, 0.5114491581916809, 0.0, 0.0, 0.4906349182128906, 0.010747173801064491, 0.001626333105377853, 0.9479189515113831, 0.0, 0.5416997075080872, 0.0, 0.0, 0.0, 0.0, 0.0, 0.03124506212770939, 0.0, 0.0, 0.0, 0.0, 0.0, 1.0153881311416626, 0.0928543359041214, 0.24119287729263306, 0.04972466826438904, 0.0, 0.07424137741327286, 0.0, 0.006975157652050257, 0.22391758859157562, 0.27885541319847107, 0.0, 0.012559128925204277, 0.0, 2.909125566482544, 0.0380236990749836, 0.6951265931129456, 0.0, 0.0, 0.0, 0.0, 0.27804550528526306, 0.01123766414821148, 0.26743388175964355, 0.019309088587760925, 0.03715664893388748, 0.0, 0.0, 0.8195642828941345, 0.0, 0.0, 0.4744102656841278, 0.603907585144043, 0.0, 0.0, 0.4176021218299866, 0.17209969460964203, 0.0, 0.0, 0.011009455658495426, 0.4415266811847687, 0.0008321577915921807, 0.0, 0.0, 0.0, 0.0, 0.0733107328414917, 0.13933250308036804, 0.4495792090892792, 0.477184921503067, 0.06389185786247253, 0.18957184255123138, 0.0, 0.0, 0.44642871618270874, 0.6027924418449402, 0.0, 0.5354995727539062, 0.6867834329605103, 0.14896613359451294, 0.033118393272161484, 1.6183191537857056, 0.010549991391599178, 0.0, 0.0, 0.0, 0.0, 0.0, 0.2696295380592346, 0.0, 0.0, 0.0, 0.29089727997779846, 0.6973970532417297, 0.0, 0.004586946219205856, 0.0, 0.0, 0.5185065269470215, 0.0, 0.0, 0.43408504128456116, 0.0, 0.05703965947031975, 0.0, 0.7888007760047913, 0.0, 0.0, 0.0, 0.02065179869532585, 0.0, 0.0, 0.020585188642144203, 0.0, 0.0, 1.2205109596252441, 0.0, 0.2326575368642807, 0.11415908485651016, 0.013068013824522495, 0.0, 0.7939291000366211, 1.5862594842910767, 0.04799294099211693, 0.0, 0.3333631157875061, 0.08137252181768417, 0.0, 0.05725143477320671, 0.0, 0.0, 0.7592443227767944, 0.028366409242153168, 0.2485116720199585, 0.0, 0.028696443885564804, 0.0, 0.0, 0.0, 0.0, 0.05236294865608215, 0.0, 0.0, 0.24459923803806305, 0.1272684633731842, 0.14778569340705872, 0.0, 0.0, 0.08736066520214081, 0.6007474064826965, 0.0, 0.0, 0.0003423626476433128, 0.0, 0.0, 0.3937450349330902, 0.0, 0.0, 0.12139106541872025, 0.03554849699139595, 1.1945521831512451, 0.7201581597328186, 1.066794514656067, 0.009884738363325596, 0.06584656983613968, 0.9167121052742004, 0.0, 0.006995508447289467, 0.0, 1.5544849634170532, 0.0, 0.0, 0.0, 0.2350960224866867, 0.41119980812072754, 0.045409347862005234, 0.0, 0.0, 0.0, 1.3550796508789062, 0.0, 0.0, 0.0, 0.0, 0.0, 0.0, 0.0, 0.32029151916503906, 0.8273933529853821, 0.0, 0.0, 0.09348443150520325, 0.5545580983161926, 0.0, 0.20229385793209076, 0.09154962748289108, 0.0, 0.06776043027639389, 0.33877402544021606, 0.0, 0.683275580406189, 0.0, 0.0, 0.0, 0.3349784016609192, 0.0, 0.0, 0.0, 0.0, 0.0783655047416687, 0.0, 0.0, 0.004762666299939156, 0.0, 0.0, 1.0737640857696533, 0.2438363879919052, 0.0, 0.0, 0.0, 0.0033973543904721737, 0.0, 0.0, 0.0, 0.03875325992703438, 0.0, 0.0, 0.0, 0.0, 0.24965043365955353, 0.0, 0.0685349702835083, 0.0, 0.0, 0.8518462777137756, 0.4913337826728821, 0.0, 0.0, 1.4006054401397705, 1.6369327306747437, 0.0, 0.0, 0.0, 0.0, 0.0, 0.0, 0.0, 0.0, 0.0, 0.0, 0.8712652325630188, 0.0, 0.0, 0.0, 0.0, 0.33099520206451416, 0.03314172104001045, 0.11232780665159225, 0.21247687935829163, 0.0, 0.0, 1.8154089450836182, 0.01405682135373354, 0.0, 0.0, 0.0, 0.0035670967772603035, 0.48298776149749756, 1.4109857082366943, 0.0, 0.0, 0.0, 0.0, 0.0, 0.0, 0.0, 1.0866060256958008, 0.0, 0.11470089852809906, 0.0, 0.03069276548922062, 0.0, 0.07691939175128937, 0.03528495132923126, 0.0, 0.03979774937033653, 0.7978981733322144, 0.05956469848752022, 0.8859917521476746, 0.0, 1.6254876852035522, 0.0, 0.0, 0.0, 0.5978509783744812, 0.0, 0.0, 0.13471202552318573, 0.0, 0.032441385090351105, 0.0, 0.24027171730995178, 0.0, 0.0, 0.0, 0.9895003437995911, 0.019457735121250153, 0.0, 0.0, 0.033453088253736496, 0.007347338832914829, 1.4248764514923096, 0.06745854020118713, 0.04443598911166191, 0.0, 0.0, 0.06504224240779877, 0.0, 0.8553220629692078, 0.0, 0.005121600814163685, 0.1186881959438324, 0.0, 0.026155870407819748, 0.0, 0.0, 0.0, 0.0, 0.11199373006820679, 0.0, 0.0, 0.44571879506111145, 0.0, 0.0, 0.5401217937469482, 0.3512480854988098, 0.0, 0.010059937834739685, 0.5877590179443359, 0.7575314044952393, 0.042199183255434036, 0.00927185919135809, 0.3110356330871582, 0.08216533064842224, 1.1427242755889893, 0.0, 0.014263462275266647, 0.3901705741882324, 0.03085307776927948, 0.0, 0.0, 0.08837007731199265, 0.29133808612823486, 0.0, 0.0, 0.0, 0.42132997512817383, 0.0018195082666352391, 0.6406087875366211, 0.0, 2.189117670059204, 0.007388503756374121, 0.0, 0.3060772120952606, 1.5208317041397095, 0.0, 0.0, 0.0, 0.0, 0.0, 0.12316147238016129, 0.0, 0.0, 0.0, 0.010749622248113155, 0.24635586142539978, 0.0, 0.0, 0.0, 2.102168083190918, 0.0, 0.0, 0.02220233343541622, 0.0, 0.0, 0.02117762714624405, 0.0, 0.014400196261703968, 0.0, 0.0, 0.11063511669635773, 0.0, 0.0570279061794281, 0.6148685812950134, 0.0, 0.0, 0.0, 0.0, 0.0, 0.0, 0.0, 0.0, 0.0, 0.0, 1.5797113180160522, 0.0, 0.0, 0.0, 0.0, 0.44097214937210083, 0.0, 0.030231395736336708, 0.0, 0.017297953367233276, 0.0, 0.0, 0.2248915284872055, 0.0, 0.7736738324165344, 0.0, 0.0, 0.0, 0.0, 0.0, 0.0, 0.0, 0.0, 0.033278606832027435, 0.0, 0.04262327775359154, 0.0, 0.0, 0.0, 0.0, 0.0538904145359993, 0.019898727536201477, 0.0, 0.007415934931486845, 0.050983477383852005, 0.1652751863002777, 0.0, 0.011980855837464333, 0.0, 0.0, 0.045695118606090546, 0.01114388182759285, 0.6476554274559021, 0.5575615167617798, 0.010990849696099758, 0.0, 0.02309720776975155, 0.7925217151641846, 0.7179798483848572, 0.0, 0.0, 0.040605880320072174, 0.010382318869233131, 0.3764432668685913, 0.0, 0.0, 0.0, 0.0, 0.024594968184828758, 0.0, 0.15552403032779694, 0.0, 0.10190615057945251, 0.012177991680800915, 0.0, 0.0, 0.0, 0.042398642748594284, 0.042773693799972534, 0.016790006309747696, 0.44877102971076965, 0.0, 0.0, 0.3689155578613281, 0.0, 0.40204939246177673, 0.0, 0.0, 0.15852090716362, 0.0, 0.0, 0.0, 0.0, 0.0, 0.13610610365867615, 0.0, 0.0067746625281870365, 0.0, 0.0, 0.0, 0.0, 0.0, 0.0, 0.0, 0.0, 0.1743948757648468, 1.1502405405044556, 0.0, 0.005040458403527737, 0.16604554653167725, 0.4823791980743408, 0.017737172544002533, 0.0, 0.0, 0.0, 0.0, 0.3839765787124634, 0.21006812155246735, 0.0, 0.06272714585065842, 0.0, 0.0, 0.06575798243284225, 0.18314571678638458, 0.0, 0.07671170681715012, 0.1735953837633133, 0.0, 1.1692755222320557, 0.0, 0.21539364755153656, 0.5835095047950745, 0.1355840116739273, 0.0, 1.2027912139892578, 0.009887152351439, 0.0, 0.031350862234830856, 0.0, 0.0, 0.04854971915483475, 1.7589170932769775, 0.5332085490226746, 0.0, 0.0, 0.0, 0.0044585526920855045, 0.0, 0.0, 0.0, 2.628762722015381, 0.02106439881026745, 0.02292047254741192, 0.2021176517009735, 0.0, 0.0, 0.582470715045929, 0.0, 0.6190526485443115, 0.008126132190227509, 0.0, 0.35846102237701416, 0.04318424314260483, 0.0, 0.0, 0.0, 0.13319827616214752, 0.0, 0.0, 0.0, 0.5900164842605591, 0.11020220816135406, 0.0, 0.0, 0.0, 0.0, 0.0, 0.019441507756710052, 0.12002046406269073, 0.6358172297477722, 0.015724334865808487, 0.0007989712757989764, 0.0718599334359169, 0.031183447688817978, 0.0, 0.0, 0.5614500641822815, 0.7308283448219299, 0.0144713269546628, 0.0, 0.5569058060646057, 0.0, 0.27016589045524597, 0.0, 0.0, 0.2941237688064575, 0.0, 0.1923353224992752, 0.0, 0.11156146228313446, 0.058836791664361954, 0.0, 0.0, 0.11927478015422821, 0.01717912219464779, 0.0, 0.0, 0.0, 0.023510562255978584, 0.27593016624450684, 0.0, 0.0, 0.0, 0.0, 0.0, 0.4418754577636719, 0.8993868231773376, 0.46239519119262695, 0.10512600839138031, 0.0, 0.0, 0.0, 0.0, 0.0, 0.072565957903862, 0.0, 0.23439426720142365, 0.17393755912780762, 0.0, 0.0, 0.0, 2.344041585922241, 0.19317686557769775, 0.0, 0.053862493485212326, 0.34525975584983826, 0.1267043650150299, 0.0, 0.0014347049873322248, 0.8174086809158325, 0.5322248339653015, 0.0, 0.46318987011909485, 1.4892216920852661, 0.0, 0.28527575731277466, 0.0, 0.0, 0.0, 0.0, 0.0, 0.05118759348988533, 0.006841038353741169]'"
      ]
     },
     "execution_count": 14,
     "metadata": {},
     "output_type": "execute_result"
    }
   ],
   "source": [
    "jsn"
   ]
  },
  {
   "cell_type": "code",
   "execution_count": 15,
   "id": "b62ec81f",
   "metadata": {},
   "outputs": [],
   "source": [
    "listx = json.loads(jsn)"
   ]
  },
  {
   "cell_type": "code",
   "execution_count": 16,
   "id": "d847fab5",
   "metadata": {
    "collapsed": true
   },
   "outputs": [
    {
     "data": {
      "text/plain": [
       "[0.051723968237638474,\n",
       " 0.0,\n",
       " 0.09897536784410477,\n",
       " 0.0,\n",
       " 0.0,\n",
       " 0.0,\n",
       " 0.0,\n",
       " 0.1774028241634369,\n",
       " 0.0,\n",
       " 0.0,\n",
       " 0.01474226824939251,\n",
       " 0.0,\n",
       " 0.036639504134655,\n",
       " 0.0018367682350799441,\n",
       " 0.0,\n",
       " 0.08362532407045364,\n",
       " 0.0,\n",
       " 0.0,\n",
       " 0.0,\n",
       " 0.13583458960056305,\n",
       " 0.0,\n",
       " 0.0,\n",
       " 0.0,\n",
       " 0.011785304173827171,\n",
       " 0.0,\n",
       " 0.0,\n",
       " 0.22030887007713318,\n",
       " 0.15923987329006195,\n",
       " 0.8236945867538452,\n",
       " 0.22613081336021423,\n",
       " 0.0018958182772621512,\n",
       " 0.04673737287521362,\n",
       " 0.01844767853617668,\n",
       " 0.0,\n",
       " 1.7450262308120728,\n",
       " 0.3015909790992737,\n",
       " 0.0,\n",
       " 0.0,\n",
       " 0.0,\n",
       " 1.665256381034851,\n",
       " 0.0,\n",
       " 0.9574573040008545,\n",
       " 0.0,\n",
       " 0.0,\n",
       " 0.023872010409832,\n",
       " 0.0,\n",
       " 0.0,\n",
       " 0.0,\n",
       " 0.02160099521279335,\n",
       " 0.07308090478181839,\n",
       " 0.0,\n",
       " 0.15312206745147705,\n",
       " 0.0,\n",
       " 0.0035893607418984175,\n",
       " 0.0,\n",
       " 0.0,\n",
       " 0.09893351048231125,\n",
       " 0.0,\n",
       " 0.0,\n",
       " 0.0,\n",
       " 0.6369576454162598,\n",
       " 0.005761856213212013,\n",
       " 0.0,\n",
       " 1.1790012121200562,\n",
       " 0.0,\n",
       " 0.0,\n",
       " 0.0,\n",
       " 0.0,\n",
       " 0.006983019411563873,\n",
       " 0.0,\n",
       " 0.0,\n",
       " 0.20576722919940948,\n",
       " 0.0,\n",
       " 0.0,\n",
       " 0.0,\n",
       " 0.0,\n",
       " 0.0,\n",
       " 0.060320816934108734,\n",
       " 0.0,\n",
       " 0.06766537576913834,\n",
       " 0.0,\n",
       " 0.15022552013397217,\n",
       " 0.0,\n",
       " 0.012918445281684399,\n",
       " 0.27782320976257324,\n",
       " 0.0,\n",
       " 0.0,\n",
       " 0.0,\n",
       " 0.17831270396709442,\n",
       " 0.0,\n",
       " 0.0,\n",
       " 0.0,\n",
       " 0.0,\n",
       " 0.0,\n",
       " 0.2413078248500824,\n",
       " 0.0244892667979002,\n",
       " 0.0,\n",
       " 0.0,\n",
       " 0.0,\n",
       " 0.0,\n",
       " 1.0799933671951294,\n",
       " 0.0,\n",
       " 0.022540444508194923,\n",
       " 0.0,\n",
       " 0.0,\n",
       " 0.0034054520074278116,\n",
       " 0.0,\n",
       " 0.0,\n",
       " 0.2857137620449066,\n",
       " 1.5740340948104858,\n",
       " 0.05432775989174843,\n",
       " 0.0,\n",
       " 0.0,\n",
       " 1.2961839437484741,\n",
       " 0.0,\n",
       " 0.3564472496509552,\n",
       " 0.0,\n",
       " 0.041864145547151566,\n",
       " 0.18184104561805725,\n",
       " 0.0,\n",
       " 0.0,\n",
       " 0.0,\n",
       " 0.02558489888906479,\n",
       " 0.03056197240948677,\n",
       " 0.0,\n",
       " 0.014813805930316448,\n",
       " 0.048999227583408356,\n",
       " 0.0,\n",
       " 0.0,\n",
       " 0.27446988224983215,\n",
       " 0.07025468349456787,\n",
       " 0.04900616034865379,\n",
       " 0.0,\n",
       " 0.9588538408279419,\n",
       " 0.0,\n",
       " 0.0,\n",
       " 0.0,\n",
       " 0.0,\n",
       " 0.0,\n",
       " 0.6341345906257629,\n",
       " 0.0,\n",
       " 0.0,\n",
       " 0.010121652856469154,\n",
       " 0.0,\n",
       " 0.0,\n",
       " 0.0,\n",
       " 1.6491529941558838,\n",
       " 0.0,\n",
       " 0.08230374753475189,\n",
       " 0.0,\n",
       " 0.0,\n",
       " 0.0,\n",
       " 0.0,\n",
       " 0.0,\n",
       " 0.04019951820373535,\n",
       " 0.0,\n",
       " 0.0,\n",
       " 0.004973945673555136,\n",
       " 0.0,\n",
       " 0.2550821602344513,\n",
       " 0.0,\n",
       " 0.0,\n",
       " 0.06871414929628372,\n",
       " 0.14961788058280945,\n",
       " 1.4164470434188843,\n",
       " 0.0,\n",
       " 0.0641389936208725,\n",
       " 0.004286378156393766,\n",
       " 0.0,\n",
       " 0.0,\n",
       " 2.117455244064331,\n",
       " 0.022749511525034904,\n",
       " 0.7665539383888245,\n",
       " 0.0,\n",
       " 0.0,\n",
       " 0.0,\n",
       " 0.03860803321003914,\n",
       " 0.0,\n",
       " 0.06727226078510284,\n",
       " 0.0,\n",
       " 0.0,\n",
       " 0.0,\n",
       " 0.47434452176094055,\n",
       " 0.0,\n",
       " 0.0,\n",
       " 0.0,\n",
       " 0.0,\n",
       " 0.0,\n",
       " 0.0,\n",
       " 0.0,\n",
       " 0.0,\n",
       " 0.0,\n",
       " 0.0,\n",
       " 0.055757973343133926,\n",
       " 0.0,\n",
       " 1.3737776279449463,\n",
       " 2.6907691955566406,\n",
       " 0.0,\n",
       " 0.0,\n",
       " 1.348299503326416,\n",
       " 0.28482288122177124,\n",
       " 0.008939574472606182,\n",
       " 0.23729147017002106,\n",
       " 0.0,\n",
       " 0.017327629029750824,\n",
       " 0.004651778843253851,\n",
       " 0.0,\n",
       " 0.20842023193836212,\n",
       " 0.0,\n",
       " 0.0,\n",
       " 0.0,\n",
       " 0.0,\n",
       " 0.007680074777454138,\n",
       " 0.26153114438056946,\n",
       " 0.16886012256145477,\n",
       " 0.0,\n",
       " 0.0,\n",
       " 0.0,\n",
       " 0.0,\n",
       " 0.0,\n",
       " 0.5774170756340027,\n",
       " 0.0,\n",
       " 0.0,\n",
       " 0.13738204538822174,\n",
       " 0.0,\n",
       " 0.0,\n",
       " 1.2871572971343994,\n",
       " 0.0,\n",
       " 0.0,\n",
       " 0.0,\n",
       " 0.0,\n",
       " 0.03715832531452179,\n",
       " 0.0,\n",
       " 0.0,\n",
       " 1.811301589012146,\n",
       " 0.14791300892829895,\n",
       " 0.0,\n",
       " 0.005088383331894875,\n",
       " 0.0,\n",
       " 0.0,\n",
       " 0.0,\n",
       " 0.023708321154117584,\n",
       " 0.008651286363601685,\n",
       " 0.06258542090654373,\n",
       " 0.0,\n",
       " 0.016899650916457176,\n",
       " 0.01170627772808075,\n",
       " 0.0,\n",
       " 0.1265821009874344,\n",
       " 0.0,\n",
       " 0.033479828387498856,\n",
       " 0.0,\n",
       " 0.0,\n",
       " 0.0,\n",
       " 0.0,\n",
       " 0.3488011360168457,\n",
       " 0.2455981969833374,\n",
       " 1.4244903326034546,\n",
       " 0.0,\n",
       " 0.0,\n",
       " 0.0021576909348368645,\n",
       " 1.3538750410079956,\n",
       " 0.0,\n",
       " 0.0,\n",
       " 0.0,\n",
       " 0.0,\n",
       " 0.0725560262799263,\n",
       " 0.0,\n",
       " 0.4772341549396515,\n",
       " 0.3930325508117676,\n",
       " 0.355164110660553,\n",
       " 0.006839221343398094,\n",
       " 0.0,\n",
       " 0.565511167049408,\n",
       " 0.0,\n",
       " 0.03146238625049591,\n",
       " 0.0,\n",
       " 0.0,\n",
       " 0.0,\n",
       " 0.0,\n",
       " 0.06139005348086357,\n",
       " 0.0,\n",
       " 1.5847036838531494,\n",
       " 0.000279683037661016,\n",
       " 0.0,\n",
       " 0.0,\n",
       " 0.1015651598572731,\n",
       " 0.0,\n",
       " 1.465855360031128,\n",
       " 0.0,\n",
       " 0.0,\n",
       " 0.4700930416584015,\n",
       " 0.009945356287062168,\n",
       " 0.24658538401126862,\n",
       " 0.3638402223587036,\n",
       " 0.0,\n",
       " 0.0,\n",
       " 0.0,\n",
       " 0.0,\n",
       " 0.5103172659873962,\n",
       " 0.9857956767082214,\n",
       " 0.0,\n",
       " 0.008416269905865192,\n",
       " 0.09490394592285156,\n",
       " 0.0,\n",
       " 0.0,\n",
       " 0.0,\n",
       " 0.0,\n",
       " 0.023498322814702988,\n",
       " 0.016051040962338448,\n",
       " 0.030235152691602707,\n",
       " 0.031670089811086655,\n",
       " 0.0,\n",
       " 0.0,\n",
       " 0.0,\n",
       " 0.3474626839160919,\n",
       " 0.8003318905830383,\n",
       " 0.0,\n",
       " 0.0,\n",
       " 0.05374889075756073,\n",
       " 0.0,\n",
       " 0.4509781002998352,\n",
       " 0.0,\n",
       " 0.0781836062669754,\n",
       " 0.0,\n",
       " 0.2662922739982605,\n",
       " 0.0,\n",
       " 0.0,\n",
       " 0.0,\n",
       " 0.01311322022229433,\n",
       " 0.0,\n",
       " 0.0,\n",
       " 0.0854015126824379,\n",
       " 0.0,\n",
       " 0.3711559474468231,\n",
       " 0.0,\n",
       " 0.0,\n",
       " 0.3478769063949585,\n",
       " 0.9669486880302429,\n",
       " 0.0,\n",
       " 0.0711764320731163,\n",
       " 0.0,\n",
       " 0.0809900090098381,\n",
       " 0.6040580868721008,\n",
       " 0.0,\n",
       " 0.39202961325645447,\n",
       " 0.0,\n",
       " 0.754337728023529,\n",
       " 0.0,\n",
       " 0.0,\n",
       " 0.0,\n",
       " 1.472665548324585,\n",
       " 0.0,\n",
       " 0.0,\n",
       " 0.20743657648563385,\n",
       " 0.0,\n",
       " 0.024631351232528687,\n",
       " 0.0,\n",
       " 0.0,\n",
       " 0.02275209315121174,\n",
       " 0.06687474995851517,\n",
       " 0.0,\n",
       " 0.5806268453598022,\n",
       " 0.0,\n",
       " 0.0,\n",
       " 0.39630061388015747,\n",
       " 0.0,\n",
       " 0.03895995393395424,\n",
       " 0.0,\n",
       " 0.0,\n",
       " 0.6333341598510742,\n",
       " 0.0,\n",
       " 2.485684871673584,\n",
       " 0.0,\n",
       " 0.0,\n",
       " 0.0,\n",
       " 0.0,\n",
       " 0.0,\n",
       " 0.0,\n",
       " 0.0,\n",
       " 0.0,\n",
       " 0.0,\n",
       " 0.0,\n",
       " 0.0,\n",
       " 0.0,\n",
       " 0.0,\n",
       " 0.0,\n",
       " 0.0,\n",
       " 0.0,\n",
       " 0.0290936641395092,\n",
       " 0.0,\n",
       " 0.04355665296316147,\n",
       " 0.0,\n",
       " 0.0,\n",
       " 0.1562676727771759,\n",
       " 0.0,\n",
       " 0.0,\n",
       " 0.9220866560935974,\n",
       " 0.007228413596749306,\n",
       " 0.0,\n",
       " 1.4651153087615967,\n",
       " 0.0,\n",
       " 0.0,\n",
       " 0.0,\n",
       " 0.15341541171073914,\n",
       " 0.0,\n",
       " 0.5069661140441895,\n",
       " 1.129300832748413,\n",
       " 2.228196382522583,\n",
       " 0.0,\n",
       " 0.0,\n",
       " 0.0,\n",
       " 0.16378328204154968,\n",
       " 0.24148400127887726,\n",
       " 0.1567157804965973,\n",
       " 0.002881645457819104,\n",
       " 0.0,\n",
       " 0.07941396534442902,\n",
       " 0.0,\n",
       " 0.0,\n",
       " 0.0,\n",
       " 0.0,\n",
       " 0.7594754099845886,\n",
       " 0.08097042888402939,\n",
       " 0.0,\n",
       " 0.695182204246521,\n",
       " 0.0,\n",
       " 0.0,\n",
       " 0.0,\n",
       " 0.0,\n",
       " 0.0,\n",
       " 0.0,\n",
       " 0.0,\n",
       " 0.0,\n",
       " 1.0351313352584839,\n",
       " 0.0,\n",
       " 0.0,\n",
       " 0.0,\n",
       " 0.0,\n",
       " 0.12155082076787949,\n",
       " 0.0,\n",
       " 0.0,\n",
       " 0.0014605086762458086,\n",
       " 0.0,\n",
       " 1.0172704458236694,\n",
       " 0.007951739244163036,\n",
       " 0.0023834682069718838,\n",
       " 0.04826320335268974,\n",
       " 0.0,\n",
       " 0.0,\n",
       " 0.0,\n",
       " 0.048857610672712326,\n",
       " 0.014942387118935585,\n",
       " 0.0,\n",
       " 0.003189528826624155,\n",
       " 1.8964649438858032,\n",
       " 1.5195521116256714,\n",
       " 0.10249128192663193,\n",
       " 0.0,\n",
       " 0.0,\n",
       " 0.0,\n",
       " 0.0,\n",
       " 0.8676822185516357,\n",
       " 0.0,\n",
       " 0.022558167576789856,\n",
       " 0.0,\n",
       " 0.0,\n",
       " 0.0,\n",
       " 0.3042386472225189,\n",
       " 0.0,\n",
       " 0.0,\n",
       " 0.0,\n",
       " 1.87767493724823,\n",
       " 1.0784603357315063,\n",
       " 0.029265422374010086,\n",
       " 0.09212692081928253,\n",
       " 0.0,\n",
       " 0.1719418615102768,\n",
       " 0.0,\n",
       " 0.0,\n",
       " 0.4506208896636963,\n",
       " 0.032570552080869675,\n",
       " 0.0,\n",
       " 0.10119839012622833,\n",
       " 0.0,\n",
       " 0.0,\n",
       " 0.0,\n",
       " 0.2796814441680908,\n",
       " 0.0,\n",
       " 0.6035380959510803,\n",
       " 0.0,\n",
       " 0.0,\n",
       " 0.0,\n",
       " 1.6333359479904175,\n",
       " 0.03900272399187088,\n",
       " 0.04107788950204849,\n",
       " 0.0,\n",
       " 0.07586800307035446,\n",
       " 0.0,\n",
       " 0.0,\n",
       " 0.0,\n",
       " 0.9002510905265808,\n",
       " 0.0,\n",
       " 0.0,\n",
       " 0.0,\n",
       " 0.10179173201322556,\n",
       " 2.0393898487091064,\n",
       " 0.0,\n",
       " 0.0,\n",
       " 0.0,\n",
       " 0.046338606625795364,\n",
       " 0.19787032902240753,\n",
       " 0.0,\n",
       " 0.23399794101715088,\n",
       " 0.0,\n",
       " 0.0,\n",
       " 0.3861025869846344,\n",
       " 0.02161947824060917,\n",
       " 0.0,\n",
       " 0.10586777329444885,\n",
       " 0.0,\n",
       " 0.6336045265197754,\n",
       " 1.0735172033309937,\n",
       " 0.0,\n",
       " 0.0,\n",
       " 0.20306098461151123,\n",
       " 0.03034254163503647,\n",
       " 0.0,\n",
       " 0.44000646471977234,\n",
       " 0.0,\n",
       " 0.0,\n",
       " 0.08103834837675095,\n",
       " 0.009368013590574265,\n",
       " 0.0,\n",
       " 1.228664755821228,\n",
       " 0.11600412428379059,\n",
       " 0.0,\n",
       " 0.0,\n",
       " 0.3960379362106323,\n",
       " 0.49481406807899475,\n",
       " 0.04539734125137329,\n",
       " 0.014183960855007172,\n",
       " 0.0,\n",
       " 0.0,\n",
       " 0.6063253283500671,\n",
       " 0.0,\n",
       " 0.2526616156101227,\n",
       " 0.0,\n",
       " 0.12269590049982071,\n",
       " 0.013721613213419914,\n",
       " 0.0,\n",
       " 0.036845169961452484,\n",
       " 0.0,\n",
       " 0.0,\n",
       " 0.8091492652893066,\n",
       " 0.0,\n",
       " 1.0648506879806519,\n",
       " 0.09972566366195679,\n",
       " 0.18875974416732788,\n",
       " 0.0,\n",
       " 0.11513885855674744,\n",
       " 0.0,\n",
       " 0.0,\n",
       " 0.0,\n",
       " 0.0,\n",
       " 0.01836732029914856,\n",
       " 0.16049619019031525,\n",
       " 0.0,\n",
       " 0.016978083178400993,\n",
       " 0.0,\n",
       " 0.05512182414531708,\n",
       " 0.0,\n",
       " 0.7003690004348755,\n",
       " 0.0,\n",
       " 0.0,\n",
       " 0.0,\n",
       " 1.4428340196609497,\n",
       " 0.054067213088274,\n",
       " 0.0,\n",
       " 0.0,\n",
       " 0.0,\n",
       " 0.29653120040893555,\n",
       " 0.0856301411986351,\n",
       " 0.0,\n",
       " 0.0,\n",
       " 0.5465723276138306,\n",
       " 0.21170151233673096,\n",
       " 0.0,\n",
       " 0.34966227412223816,\n",
       " 0.0,\n",
       " 0.0,\n",
       " 0.020386194810271263,\n",
       " 0.38821613788604736,\n",
       " 0.77701336145401,\n",
       " 0.0,\n",
       " 0.0,\n",
       " 0.0,\n",
       " 0.0,\n",
       " 0.016807928681373596,\n",
       " 0.0,\n",
       " 0.030010705813765526,\n",
       " 0.0,\n",
       " 0.0,\n",
       " 0.6711249947547913,\n",
       " 0.0,\n",
       " 0.0,\n",
       " 0.0,\n",
       " 0.04888872057199478,\n",
       " 0.08733218163251877,\n",
       " 0.0,\n",
       " 0.0,\n",
       " 0.0,\n",
       " 0.0,\n",
       " 0.0,\n",
       " 0.0,\n",
       " 0.044288940727710724,\n",
       " 0.0,\n",
       " 0.04843500629067421,\n",
       " 0.0,\n",
       " 0.0,\n",
       " 0.0808573067188263,\n",
       " 0.4233536124229431,\n",
       " 0.0,\n",
       " 0.0,\n",
       " 0.4960344135761261,\n",
       " 0.009753482416272163,\n",
       " 0.07637935876846313,\n",
       " 0.0,\n",
       " 0.13470833003520966,\n",
       " 0.0,\n",
       " 0.5064086318016052,\n",
       " 0.0,\n",
       " 0.0,\n",
       " 0.0,\n",
       " 0.5114491581916809,\n",
       " 0.0,\n",
       " 0.0,\n",
       " 0.4906349182128906,\n",
       " 0.010747173801064491,\n",
       " 0.001626333105377853,\n",
       " 0.9479189515113831,\n",
       " 0.0,\n",
       " 0.5416997075080872,\n",
       " 0.0,\n",
       " 0.0,\n",
       " 0.0,\n",
       " 0.0,\n",
       " 0.0,\n",
       " 0.03124506212770939,\n",
       " 0.0,\n",
       " 0.0,\n",
       " 0.0,\n",
       " 0.0,\n",
       " 0.0,\n",
       " 1.0153881311416626,\n",
       " 0.0928543359041214,\n",
       " 0.24119287729263306,\n",
       " 0.04972466826438904,\n",
       " 0.0,\n",
       " 0.07424137741327286,\n",
       " 0.0,\n",
       " 0.006975157652050257,\n",
       " 0.22391758859157562,\n",
       " 0.27885541319847107,\n",
       " 0.0,\n",
       " 0.012559128925204277,\n",
       " 0.0,\n",
       " 2.909125566482544,\n",
       " 0.0380236990749836,\n",
       " 0.6951265931129456,\n",
       " 0.0,\n",
       " 0.0,\n",
       " 0.0,\n",
       " 0.0,\n",
       " 0.27804550528526306,\n",
       " 0.01123766414821148,\n",
       " 0.26743388175964355,\n",
       " 0.019309088587760925,\n",
       " 0.03715664893388748,\n",
       " 0.0,\n",
       " 0.0,\n",
       " 0.8195642828941345,\n",
       " 0.0,\n",
       " 0.0,\n",
       " 0.4744102656841278,\n",
       " 0.603907585144043,\n",
       " 0.0,\n",
       " 0.0,\n",
       " 0.4176021218299866,\n",
       " 0.17209969460964203,\n",
       " 0.0,\n",
       " 0.0,\n",
       " 0.011009455658495426,\n",
       " 0.4415266811847687,\n",
       " 0.0008321577915921807,\n",
       " 0.0,\n",
       " 0.0,\n",
       " 0.0,\n",
       " 0.0,\n",
       " 0.0733107328414917,\n",
       " 0.13933250308036804,\n",
       " 0.4495792090892792,\n",
       " 0.477184921503067,\n",
       " 0.06389185786247253,\n",
       " 0.18957184255123138,\n",
       " 0.0,\n",
       " 0.0,\n",
       " 0.44642871618270874,\n",
       " 0.6027924418449402,\n",
       " 0.0,\n",
       " 0.5354995727539062,\n",
       " 0.6867834329605103,\n",
       " 0.14896613359451294,\n",
       " 0.033118393272161484,\n",
       " 1.6183191537857056,\n",
       " 0.010549991391599178,\n",
       " 0.0,\n",
       " 0.0,\n",
       " 0.0,\n",
       " 0.0,\n",
       " 0.0,\n",
       " 0.2696295380592346,\n",
       " 0.0,\n",
       " 0.0,\n",
       " 0.0,\n",
       " 0.29089727997779846,\n",
       " 0.6973970532417297,\n",
       " 0.0,\n",
       " 0.004586946219205856,\n",
       " 0.0,\n",
       " 0.0,\n",
       " 0.5185065269470215,\n",
       " 0.0,\n",
       " 0.0,\n",
       " 0.43408504128456116,\n",
       " 0.0,\n",
       " 0.05703965947031975,\n",
       " 0.0,\n",
       " 0.7888007760047913,\n",
       " 0.0,\n",
       " 0.0,\n",
       " 0.0,\n",
       " 0.02065179869532585,\n",
       " 0.0,\n",
       " 0.0,\n",
       " 0.020585188642144203,\n",
       " 0.0,\n",
       " 0.0,\n",
       " 1.2205109596252441,\n",
       " 0.0,\n",
       " 0.2326575368642807,\n",
       " 0.11415908485651016,\n",
       " 0.013068013824522495,\n",
       " 0.0,\n",
       " 0.7939291000366211,\n",
       " 1.5862594842910767,\n",
       " 0.04799294099211693,\n",
       " 0.0,\n",
       " 0.3333631157875061,\n",
       " 0.08137252181768417,\n",
       " 0.0,\n",
       " 0.05725143477320671,\n",
       " 0.0,\n",
       " 0.0,\n",
       " 0.7592443227767944,\n",
       " 0.028366409242153168,\n",
       " 0.2485116720199585,\n",
       " 0.0,\n",
       " 0.028696443885564804,\n",
       " 0.0,\n",
       " 0.0,\n",
       " 0.0,\n",
       " 0.0,\n",
       " 0.05236294865608215,\n",
       " 0.0,\n",
       " 0.0,\n",
       " 0.24459923803806305,\n",
       " 0.1272684633731842,\n",
       " 0.14778569340705872,\n",
       " 0.0,\n",
       " 0.0,\n",
       " 0.08736066520214081,\n",
       " 0.6007474064826965,\n",
       " 0.0,\n",
       " 0.0,\n",
       " 0.0003423626476433128,\n",
       " 0.0,\n",
       " 0.0,\n",
       " 0.3937450349330902,\n",
       " 0.0,\n",
       " 0.0,\n",
       " 0.12139106541872025,\n",
       " 0.03554849699139595,\n",
       " 1.1945521831512451,\n",
       " 0.7201581597328186,\n",
       " 1.066794514656067,\n",
       " 0.009884738363325596,\n",
       " 0.06584656983613968,\n",
       " 0.9167121052742004,\n",
       " 0.0,\n",
       " 0.006995508447289467,\n",
       " 0.0,\n",
       " 1.5544849634170532,\n",
       " 0.0,\n",
       " 0.0,\n",
       " 0.0,\n",
       " 0.2350960224866867,\n",
       " 0.41119980812072754,\n",
       " 0.045409347862005234,\n",
       " 0.0,\n",
       " 0.0,\n",
       " 0.0,\n",
       " 1.3550796508789062,\n",
       " 0.0,\n",
       " 0.0,\n",
       " 0.0,\n",
       " 0.0,\n",
       " 0.0,\n",
       " 0.0,\n",
       " 0.0,\n",
       " 0.32029151916503906,\n",
       " 0.8273933529853821,\n",
       " 0.0,\n",
       " 0.0,\n",
       " 0.09348443150520325,\n",
       " 0.5545580983161926,\n",
       " 0.0,\n",
       " 0.20229385793209076,\n",
       " 0.09154962748289108,\n",
       " 0.0,\n",
       " 0.06776043027639389,\n",
       " 0.33877402544021606,\n",
       " 0.0,\n",
       " 0.683275580406189,\n",
       " 0.0,\n",
       " 0.0,\n",
       " 0.0,\n",
       " 0.3349784016609192,\n",
       " 0.0,\n",
       " 0.0,\n",
       " 0.0,\n",
       " 0.0,\n",
       " 0.0783655047416687,\n",
       " 0.0,\n",
       " 0.0,\n",
       " 0.004762666299939156,\n",
       " 0.0,\n",
       " 0.0,\n",
       " 1.0737640857696533,\n",
       " 0.2438363879919052,\n",
       " 0.0,\n",
       " 0.0,\n",
       " 0.0,\n",
       " 0.0033973543904721737,\n",
       " 0.0,\n",
       " 0.0,\n",
       " 0.0,\n",
       " 0.03875325992703438,\n",
       " 0.0,\n",
       " 0.0,\n",
       " 0.0,\n",
       " 0.0,\n",
       " 0.24965043365955353,\n",
       " 0.0,\n",
       " 0.0685349702835083,\n",
       " 0.0,\n",
       " 0.0,\n",
       " 0.8518462777137756,\n",
       " 0.4913337826728821,\n",
       " 0.0,\n",
       " 0.0,\n",
       " 1.4006054401397705,\n",
       " 1.6369327306747437,\n",
       " 0.0,\n",
       " 0.0,\n",
       " 0.0,\n",
       " 0.0,\n",
       " 0.0,\n",
       " 0.0,\n",
       " 0.0,\n",
       " 0.0,\n",
       " 0.0,\n",
       " 0.0,\n",
       " 0.8712652325630188,\n",
       " 0.0,\n",
       " 0.0,\n",
       " 0.0,\n",
       " 0.0,\n",
       " 0.33099520206451416,\n",
       " 0.03314172104001045,\n",
       " 0.11232780665159225,\n",
       " 0.21247687935829163,\n",
       " 0.0,\n",
       " 0.0,\n",
       " 1.8154089450836182,\n",
       " 0.01405682135373354,\n",
       " 0.0,\n",
       " 0.0,\n",
       " 0.0,\n",
       " 0.0035670967772603035,\n",
       " 0.48298776149749756,\n",
       " 1.4109857082366943,\n",
       " 0.0,\n",
       " 0.0,\n",
       " 0.0,\n",
       " 0.0,\n",
       " 0.0,\n",
       " 0.0,\n",
       " 0.0,\n",
       " 1.0866060256958008,\n",
       " 0.0,\n",
       " 0.11470089852809906,\n",
       " 0.0,\n",
       " 0.03069276548922062,\n",
       " 0.0,\n",
       " 0.07691939175128937,\n",
       " 0.03528495132923126,\n",
       " 0.0,\n",
       " 0.03979774937033653,\n",
       " 0.7978981733322144,\n",
       " 0.05956469848752022,\n",
       " 0.8859917521476746,\n",
       " 0.0,\n",
       " 1.6254876852035522,\n",
       " 0.0,\n",
       " 0.0,\n",
       " 0.0,\n",
       " 0.5978509783744812,\n",
       " 0.0,\n",
       " 0.0,\n",
       " 0.13471202552318573,\n",
       " 0.0,\n",
       " 0.032441385090351105,\n",
       " 0.0,\n",
       " 0.24027171730995178,\n",
       " 0.0,\n",
       " 0.0,\n",
       " 0.0,\n",
       " 0.9895003437995911,\n",
       " 0.019457735121250153,\n",
       " 0.0,\n",
       " 0.0,\n",
       " 0.033453088253736496,\n",
       " 0.007347338832914829,\n",
       " 1.4248764514923096,\n",
       " 0.06745854020118713,\n",
       " 0.04443598911166191,\n",
       " 0.0,\n",
       " 0.0,\n",
       " 0.06504224240779877,\n",
       " 0.0,\n",
       " 0.8553220629692078,\n",
       " 0.0,\n",
       " 0.005121600814163685,\n",
       " 0.1186881959438324,\n",
       " 0.0,\n",
       " 0.026155870407819748,\n",
       " 0.0,\n",
       " 0.0,\n",
       " 0.0,\n",
       " 0.0,\n",
       " 0.11199373006820679,\n",
       " 0.0,\n",
       " 0.0,\n",
       " 0.44571879506111145,\n",
       " 0.0,\n",
       " 0.0,\n",
       " 0.5401217937469482,\n",
       " 0.3512480854988098,\n",
       " 0.0,\n",
       " 0.010059937834739685,\n",
       " 0.5877590179443359,\n",
       " 0.7575314044952393,\n",
       " 0.042199183255434036,\n",
       " 0.00927185919135809,\n",
       " 0.3110356330871582,\n",
       " 0.08216533064842224,\n",
       " 1.1427242755889893,\n",
       " 0.0,\n",
       " 0.014263462275266647,\n",
       " 0.3901705741882324,\n",
       " 0.03085307776927948,\n",
       " 0.0,\n",
       " 0.0,\n",
       " 0.08837007731199265,\n",
       " 0.29133808612823486,\n",
       " 0.0,\n",
       " 0.0,\n",
       " 0.0,\n",
       " 0.42132997512817383,\n",
       " 0.0018195082666352391,\n",
       " 0.6406087875366211,\n",
       " 0.0,\n",
       " 2.189117670059204,\n",
       " 0.007388503756374121,\n",
       " 0.0,\n",
       " 0.3060772120952606,\n",
       " 1.5208317041397095,\n",
       " 0.0,\n",
       " 0.0,\n",
       " ...]"
      ]
     },
     "execution_count": 16,
     "metadata": {},
     "output_type": "execute_result"
    }
   ],
   "source": [
    "listx"
   ]
  },
  {
   "cell_type": "code",
   "execution_count": 20,
   "id": "59c83995",
   "metadata": {},
   "outputs": [],
   "source": [
    "r = np.array(listx)"
   ]
  },
  {
   "cell_type": "code",
   "execution_count": 21,
   "id": "b3113d32",
   "metadata": {
    "scrolled": true
   },
   "outputs": [
    {
     "data": {
      "text/plain": [
       "array([0.05172397, 0.        , 0.09897537, ..., 0.        , 0.05118759,\n",
       "       0.00684104])"
      ]
     },
     "execution_count": 21,
     "metadata": {},
     "output_type": "execute_result"
    }
   ],
   "source": [
    "r"
   ]
  },
  {
   "cell_type": "code",
   "execution_count": 22,
   "id": "679abf82",
   "metadata": {},
   "outputs": [
    {
     "data": {
      "text/plain": [
       "numpy.ndarray"
      ]
     },
     "execution_count": 22,
     "metadata": {},
     "output_type": "execute_result"
    }
   ],
   "source": [
    "type(r)"
   ]
  },
  {
   "cell_type": "code",
   "execution_count": 25,
   "id": "55b47b58",
   "metadata": {
    "scrolled": false
   },
   "outputs": [
    {
     "name": "stderr",
     "output_type": "stream",
     "text": [
      "C:\\Users\\JoEy.S\\anaconda3\\envs\\tmrcnnt3\\lib\\site-packages\\pandas\\core\\dtypes\\cast.py:948: VisibleDeprecationWarning: Creating an ndarray from ragged nested sequences (which is a list-or-tuple of lists-or-tuples-or ndarrays with different lengths or shapes) is deprecated. If you meant to do this, you must specify 'dtype=object' when creating the ndarray.\n",
      "  element = np.asarray(element)\n"
     ]
    }
   ],
   "source": [
    "result = findClosest(r,images)"
   ]
  },
  {
   "cell_type": "code",
   "execution_count": 27,
   "id": "18bf4261",
   "metadata": {
    "scrolled": true
   },
   "outputs": [
    {
     "data": {
      "text/html": [
       "<div>\n",
       "<style scoped>\n",
       "    .dataframe tbody tr th:only-of-type {\n",
       "        vertical-align: middle;\n",
       "    }\n",
       "\n",
       "    .dataframe tbody tr th {\n",
       "        vertical-align: top;\n",
       "    }\n",
       "\n",
       "    .dataframe thead th {\n",
       "        text-align: right;\n",
       "    }\n",
       "</style>\n",
       "<table border=\"1\" class=\"dataframe\">\n",
       "  <thead>\n",
       "    <tr style=\"text-align: right;\">\n",
       "      <th></th>\n",
       "      <th>distance</th>\n",
       "      <th>name</th>\n",
       "    </tr>\n",
       "  </thead>\n",
       "  <tbody>\n",
       "    <tr>\n",
       "      <th>248</th>\n",
       "      <td>[1.1102230246251565e-16]</td>\n",
       "      <td>Arbid_shirt_ (275).jpg</td>\n",
       "    </tr>\n",
       "    <tr>\n",
       "      <th>31</th>\n",
       "      <td>[0.06894224372042512]</td>\n",
       "      <td>Arbid_shirt_ (1026).jpg</td>\n",
       "    </tr>\n",
       "    <tr>\n",
       "      <th>200</th>\n",
       "      <td>[0.09211750733407387]</td>\n",
       "      <td>Arbid_shirt_ (231).jpg</td>\n",
       "    </tr>\n",
       "    <tr>\n",
       "      <th>928</th>\n",
       "      <td>[0.09532374972490398]</td>\n",
       "      <td>Arbid_shirt_ (888).jpg</td>\n",
       "    </tr>\n",
       "    <tr>\n",
       "      <th>150</th>\n",
       "      <td>[0.09637456212892637]</td>\n",
       "      <td>Arbid_shirt_ (187).jpg</td>\n",
       "    </tr>\n",
       "    <tr>\n",
       "      <th>...</th>\n",
       "      <td>...</td>\n",
       "      <td>...</td>\n",
       "    </tr>\n",
       "    <tr>\n",
       "      <th>87</th>\n",
       "      <td>[0.5769979580908622]</td>\n",
       "      <td>Arbid_shirt_ (13).jpg</td>\n",
       "    </tr>\n",
       "    <tr>\n",
       "      <th>160</th>\n",
       "      <td>[0.5836277926918301]</td>\n",
       "      <td>Arbid_shirt_ (196).jpg</td>\n",
       "    </tr>\n",
       "    <tr>\n",
       "      <th>854</th>\n",
       "      <td>[0.5883771903978616]</td>\n",
       "      <td>Arbid_shirt_ (820).jpg</td>\n",
       "    </tr>\n",
       "    <tr>\n",
       "      <th>627</th>\n",
       "      <td>[0.5888381016810422]</td>\n",
       "      <td>Arbid_shirt_ (616).jpg</td>\n",
       "    </tr>\n",
       "    <tr>\n",
       "      <th>903</th>\n",
       "      <td>[0.6472874702536562]</td>\n",
       "      <td>Arbid_shirt_ (865).jpg</td>\n",
       "    </tr>\n",
       "  </tbody>\n",
       "</table>\n",
       "<p>1052 rows × 2 columns</p>\n",
       "</div>"
      ],
      "text/plain": [
       "                     distance                     name\n",
       "248  [1.1102230246251565e-16]   Arbid_shirt_ (275).jpg\n",
       "31      [0.06894224372042512]  Arbid_shirt_ (1026).jpg\n",
       "200     [0.09211750733407387]   Arbid_shirt_ (231).jpg\n",
       "928     [0.09532374972490398]   Arbid_shirt_ (888).jpg\n",
       "150     [0.09637456212892637]   Arbid_shirt_ (187).jpg\n",
       "..                        ...                      ...\n",
       "87       [0.5769979580908622]    Arbid_shirt_ (13).jpg\n",
       "160      [0.5836277926918301]   Arbid_shirt_ (196).jpg\n",
       "854      [0.5883771903978616]   Arbid_shirt_ (820).jpg\n",
       "627      [0.5888381016810422]   Arbid_shirt_ (616).jpg\n",
       "903      [0.6472874702536562]   Arbid_shirt_ (865).jpg\n",
       "\n",
       "[1052 rows x 2 columns]"
      ]
     },
     "execution_count": 27,
     "metadata": {},
     "output_type": "execute_result"
    }
   ],
   "source": [
    "result"
   ]
  },
  {
   "cell_type": "code",
   "execution_count": 29,
   "id": "6960086e",
   "metadata": {},
   "outputs": [
    {
     "data": {
      "text/html": [
       "<div>\n",
       "<style scoped>\n",
       "    .dataframe tbody tr th:only-of-type {\n",
       "        vertical-align: middle;\n",
       "    }\n",
       "\n",
       "    .dataframe tbody tr th {\n",
       "        vertical-align: top;\n",
       "    }\n",
       "\n",
       "    .dataframe thead th {\n",
       "        text-align: right;\n",
       "    }\n",
       "</style>\n",
       "<table border=\"1\" class=\"dataframe\">\n",
       "  <thead>\n",
       "    <tr style=\"text-align: right;\">\n",
       "      <th></th>\n",
       "      <th>distance</th>\n",
       "      <th>name</th>\n",
       "    </tr>\n",
       "  </thead>\n",
       "  <tbody>\n",
       "    <tr>\n",
       "      <th>0</th>\n",
       "      <td>[0.0]</td>\n",
       "      <td>3.png</td>\n",
       "    </tr>\n",
       "    <tr>\n",
       "      <th>2</th>\n",
       "      <td>[0.05200973221324878]</td>\n",
       "      <td>5.png</td>\n",
       "    </tr>\n",
       "    <tr>\n",
       "      <th>4</th>\n",
       "      <td>[0.0888806310228869]</td>\n",
       "      <td>7.png</td>\n",
       "    </tr>\n",
       "    <tr>\n",
       "      <th>3</th>\n",
       "      <td>[0.11066394735210272]</td>\n",
       "      <td>6.png</td>\n",
       "    </tr>\n",
       "    <tr>\n",
       "      <th>5</th>\n",
       "      <td>[0.11392746160200962]</td>\n",
       "      <td>8.png</td>\n",
       "    </tr>\n",
       "    <tr>\n",
       "      <th>1</th>\n",
       "      <td>[0.16138089999301175]</td>\n",
       "      <td>4.png</td>\n",
       "    </tr>\n",
       "  </tbody>\n",
       "</table>\n",
       "</div>"
      ],
      "text/plain": [
       "                distance   name\n",
       "0                  [0.0]  3.png\n",
       "2  [0.05200973221324878]  5.png\n",
       "4   [0.0888806310228869]  7.png\n",
       "3  [0.11066394735210272]  6.png\n",
       "5  [0.11392746160200962]  8.png\n",
       "1  [0.16138089999301175]  4.png"
      ]
     },
     "execution_count": 29,
     "metadata": {},
     "output_type": "execute_result"
    }
   ],
   "source": [
    "result.sort_values(by=['distance'])"
   ]
  },
  {
   "cell_type": "code",
   "execution_count": 79,
   "id": "fa79a6af",
   "metadata": {},
   "outputs": [
    {
     "name": "stdout",
     "output_type": "stream",
     "text": [
      "(2,)\n",
      "(2,)\n",
      "(2,)\n",
      "(2,)\n",
      "(2,)\n",
      "(2,)\n"
     ]
    }
   ],
   "source": [
    "result = findClosest(skirt1,images)"
   ]
  },
  {
   "cell_type": "code",
   "execution_count": 90,
   "id": "7651cf72",
   "metadata": {},
   "outputs": [
    {
     "data": {
      "text/plain": [
       "array([0.08888063, 4.        ])"
      ]
     },
     "execution_count": 90,
     "metadata": {},
     "output_type": "execute_result"
    }
   ],
   "source": []
  },
  {
   "cell_type": "code",
   "execution_count": 104,
   "id": "e84e4cd5",
   "metadata": {},
   "outputs": [
    {
     "name": "stdout",
     "output_type": "stream",
     "text": [
      "[[0.         0.        ]\n",
      " [0.1613809  1.        ]\n",
      " [0.05200973 2.        ]\n",
      " [0.11066395 3.        ]\n",
      " [0.08888063 4.        ]\n",
      " [0.11392746 5.        ]]\n"
     ]
    }
   ],
   "source": [
    "print(result)"
   ]
  },
  {
   "cell_type": "code",
   "execution_count": 18,
   "id": "87eba45f",
   "metadata": {
    "scrolled": true
   },
   "outputs": [
    {
     "name": "stdout",
     "output_type": "stream",
     "text": [
      "[0.]\n",
      "the distance between pants1 and the pants1 is [0.]\n"
     ]
    }
   ],
   "source": [
    "dc = distance.cdist([pants1], [pants1], metric)[0]\n",
    "print(dc)\n",
    "print(\"the distance between pants1 and the pants1 is {}\".format(dc))"
   ]
  },
  {
   "cell_type": "code",
   "execution_count": 19,
   "id": "2b952146",
   "metadata": {},
   "outputs": [
    {
     "name": "stdout",
     "output_type": "stream",
     "text": [
      "[0.05200973]\n",
      "the distance between pants1 and the pants2 is [0.05200973]\n"
     ]
    }
   ],
   "source": [
    "dc = distance.cdist([pants1], [pants2], metric)[0]\n",
    "print(dc)\n",
    "print(\"the distance between pants1 and the pants2 is {}\".format(dc))"
   ]
  },
  {
   "cell_type": "code",
   "execution_count": 20,
   "id": "b1e7cd78",
   "metadata": {},
   "outputs": [
    {
     "data": {
      "text/plain": [
       "numpy.ndarray"
      ]
     },
     "execution_count": 20,
     "metadata": {},
     "output_type": "execute_result"
    }
   ],
   "source": [
    "type(dc)"
   ]
  },
  {
   "cell_type": "code",
   "execution_count": null,
   "id": "489f2d7f",
   "metadata": {},
   "outputs": [],
   "source": [
    "dc = distance.cdist([pants1], [skirt1], metric)[0]\n",
    "print(dc)\n",
    "print(\"the distance between pants1 and the skirt1 is {}\".format(dc))"
   ]
  }
 ],
 "metadata": {
  "kernelspec": {
   "display_name": "Python 3 (ipykernel)",
   "language": "python",
   "name": "python3"
  },
  "language_info": {
   "codemirror_mode": {
    "name": "ipython",
    "version": 3
   },
   "file_extension": ".py",
   "mimetype": "text/x-python",
   "name": "python",
   "nbconvert_exporter": "python",
   "pygments_lexer": "ipython3",
   "version": "3.9.7"
  }
 },
 "nbformat": 4,
 "nbformat_minor": 5
}
